{
 "cells": [
  {
   "cell_type": "markdown",
   "metadata": {},
   "source": [
    "# Read in all dataset and Data Exploration Analysis "
   ]
  },
  {
   "cell_type": "code",
   "execution_count": null,
   "metadata": {},
   "outputs": [],
   "source": [
    "import pandas as pd"
   ]
  },
  {
   "cell_type": "code",
   "execution_count": 1,
   "metadata": {},
   "outputs": [],
   "source": [
    "from pyspark.sql import SparkSession\n",
    "from pyspark.sql.types import StructType, StructField, StringType, IntegerType, TimestampType\n",
    "spark = SparkSession.builder.appName('EDA').getOrCreate()"
   ]
  },
  {
   "cell_type": "code",
   "execution_count": null,
   "metadata": {},
   "outputs": [],
   "source": [
    "#%cd home/g593697882qq/archive"
   ]
  },
  {
   "cell_type": "code",
   "execution_count": null,
   "metadata": {},
   "outputs": [],
   "source": [
    "#df = pd.read_csv(\"amazon_reviews_us_Baby_v1_00.tsv\", sep='\\t', error_bad_lines=False)\n",
    "#df.shape"
   ]
  },
  {
   "cell_type": "markdown",
   "metadata": {},
   "source": [
    "## Read in all 12 (21.78GB) dataset by Pyspark and form into one dataset called `data`"
   ]
  },
  {
   "cell_type": "code",
   "execution_count": 2,
   "metadata": {},
   "outputs": [],
   "source": [
    "schema = StructType([ \\\n",
    "    StructField(\"marketplace\",       StringType(),    True), \\\n",
    "    StructField(\"customer_id\",       StringType(),    True), \\\n",
    "    StructField(\"review_id\",         StringType(),    True), \\\n",
    "    StructField(\"product_id\",        StringType(),    True), \\\n",
    "    StructField(\"product_parent\",    StringType(),    True), \\\n",
    "    StructField(\"product_title\",     StringType(),    True), \\\n",
    "    StructField(\"product_category\",  StringType(),    True), \\\n",
    "    StructField(\"star_rating\",       IntegerType(),   True), \\\n",
    "    StructField(\"helpful_votes\",     IntegerType(),   True), \\\n",
    "    StructField(\"total_votes\",       IntegerType(),   True), \\\n",
    "    StructField(\"vine\",              StringType(),    True), \\\n",
    "    StructField(\"verified_purchase\", StringType(),    True), \\\n",
    "    StructField(\"review_headline\",   StringType(),    True), \\\n",
    "    StructField(\"review_body\",       StringType(),    True), \\\n",
    "    StructField(\"review_date\",       TimestampType(), True), \\\n",
    "  ])\n",
    "\n",
    "path = ['archive/amazon_reviews_us_Apparel_v1_00.tsv',\n",
    "        'archive/amazon_reviews_us_Automotive_v1_00.tsv',\n",
    "        'archive/amazon_reviews_us_Baby_v1_00.tsv',\n",
    "        'archive/amazon_reviews_us_Beauty_v1_00.tsv',\n",
    "        'archive/amazon_reviews_us_Books_v1_02.tsv',\n",
    "        'archive/amazon_reviews_us_Camera_v1_00.tsv',\n",
    "        'archive/amazon_reviews_us_Electronics_v1_00.tsv',\n",
    "        'archive/amazon_reviews_us_Furniture_v1_00.tsv',\n",
    "        'archive/amazon_reviews_us_Sports_v1_00.tsv',\n",
    "        'archive/amazon_reviews_us_Grocery_v1_00.tsv',\n",
    "        'archive/amazon_reviews_us_Personal_Care_Appliances_v1_00.tsv',\n",
    "        'archive/amazon_reviews_us_Music_v1_00.tsv']\n",
    "\n",
    "data = spark.read.csv(path, schema=schema, header=True, sep='\\t', mode='DROPMALFORMED')"
   ]
  },
  {
   "cell_type": "code",
   "execution_count": 3,
   "metadata": {},
   "outputs": [
    {
     "name": "stdout",
     "output_type": "stream",
     "text": [
      "root\n",
      " |-- marketplace: string (nullable = true)\n",
      " |-- customer_id: string (nullable = true)\n",
      " |-- review_id: string (nullable = true)\n",
      " |-- product_id: string (nullable = true)\n",
      " |-- product_parent: string (nullable = true)\n",
      " |-- product_title: string (nullable = true)\n",
      " |-- product_category: string (nullable = true)\n",
      " |-- star_rating: integer (nullable = true)\n",
      " |-- helpful_votes: integer (nullable = true)\n",
      " |-- total_votes: integer (nullable = true)\n",
      " |-- vine: string (nullable = true)\n",
      " |-- verified_purchase: string (nullable = true)\n",
      " |-- review_headline: string (nullable = true)\n",
      " |-- review_body: string (nullable = true)\n",
      " |-- review_date: timestamp (nullable = true)\n",
      "\n"
     ]
    }
   ],
   "source": [
    "data.printSchema()"
   ]
  },
  {
   "cell_type": "markdown",
   "metadata": {},
   "source": [
    "### There are in total *37,173,725* records in this huge data (big data)"
   ]
  },
  {
   "cell_type": "code",
   "execution_count": null,
   "metadata": {},
   "outputs": [],
   "source": [
    "data.count()"
   ]
  },
  {
   "cell_type": "code",
   "execution_count": null,
   "metadata": {},
   "outputs": [],
   "source": [
    "data.show()"
   ]
  },
  {
   "cell_type": "markdown",
   "metadata": {},
   "source": [
    "## Data Exploration Analysis"
   ]
  },
  {
   "cell_type": "markdown",
   "metadata": {},
   "source": [
    "### Count reviews by each product category"
   ]
  },
  {
   "cell_type": "markdown",
   "metadata": {},
   "source": [
    "#### We observe that there are some dates and reviews apprearing in the product_category column."
   ]
  },
  {
   "cell_type": "code",
   "execution_count": 4,
   "metadata": {},
   "outputs": [
    {
     "name": "stdout",
     "output_type": "stream",
     "text": [
      "+--------------------+-------+\n",
      "|    product_category|  count|\n",
      "+--------------------+-------+\n",
      "|          2014-01-09|      1|\n",
      "|              Sports|4849563|\n",
      "|                null|   1315|\n",
      "|          2012-12-15|      1|\n",
      "|                Baby|1752932|\n",
      "|Installed this in...|      1|\n",
      "|          2012-07-29|      1|\n",
      "|          2011-09-09|      1|\n",
      "|             Apparel|5906322|\n",
      "|             Grocery|2402431|\n",
      "|          2003-02-05|      1|\n",
      "|I don't get this ...|      1|\n",
      "|         Electronics|3093861|\n",
      "|          2013-05-18|      1|\n",
      "|          2013-09-23|      1|\n",
      "|          Automotive|3514709|\n",
      "|               Books|3105515|\n",
      "|          2013-06-10|      1|\n",
      "|          2002-08-07|      1|\n",
      "|          2014-04-29|      1|\n",
      "|               Music|4751540|\n",
      "|           Furniture| 792113|\n",
      "|Personal_Care_App...|  85981|\n",
      "|          2012-10-07|      1|\n",
      "|          2005-03-11|      1|\n",
      "|          2011-05-17|      1|\n",
      "|          2013-06-26|      1|\n",
      "|              Camera|1801972|\n",
      "|          2011-05-04|      1|\n",
      "|          2012-07-04|      1|\n",
      "|              Beauty|5115452|\n",
      "|          2012-10-16|      1|\n",
      "+--------------------+-------+\n",
      "\n"
     ]
    }
   ],
   "source": [
    "df_count = data.groupBy('product_category').count()\n",
    "df_count.show(df_count.count())"
   ]
  },
  {
   "cell_type": "markdown",
   "metadata": {},
   "source": [
    "#### We filter out dates and reviews in the product_category column and count each product category"
   ]
  },
  {
   "cell_type": "code",
   "execution_count": 6,
   "metadata": {},
   "outputs": [
    {
     "name": "stdout",
     "output_type": "stream",
     "text": [
      "+--------------------+-------+\n",
      "|    product_category|  count|\n",
      "+--------------------+-------+\n",
      "|              Sports|4849563|\n",
      "|                Baby|1752932|\n",
      "|             Apparel|5906322|\n",
      "|             Grocery|2402431|\n",
      "|         Electronics|3093861|\n",
      "|          Automotive|3514709|\n",
      "|               Books|3105515|\n",
      "|               Music|4751540|\n",
      "|           Furniture| 792113|\n",
      "|Personal_Care_App...|  85981|\n",
      "|              Camera|1801972|\n",
      "|              Beauty|5115452|\n",
      "+--------------------+-------+\n",
      "\n"
     ]
    }
   ],
   "source": [
    "product_category = ['Sports', 'Baby', 'Apparel', 'Grocery', 'Electronics', 'Automotive', 'Books', 'Music', 'Furniture', 'Personal_Care_Appliances', 'Camera', 'Beauty']\n",
    "data_filter = data.filter(data.product_category.isin(product_category))\n",
    "df_filter_count = data_filter.groupBy('product_category').count()\n",
    "df_filter_count.show(df_filter_count.count())"
   ]
  }
 ],
 "metadata": {
  "kernelspec": {
   "display_name": "Python 3",
   "language": "python",
   "name": "python3"
  },
  "language_info": {
   "codemirror_mode": {
    "name": "ipython",
    "version": 3
   },
   "file_extension": ".py",
   "mimetype": "text/x-python",
   "name": "python",
   "nbconvert_exporter": "python",
   "pygments_lexer": "ipython3",
   "version": "3.7.4"
  }
 },
 "nbformat": 4,
 "nbformat_minor": 4
}
