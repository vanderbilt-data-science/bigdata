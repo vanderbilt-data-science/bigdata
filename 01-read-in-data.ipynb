{
 "cells": [
  {
   "cell_type": "markdown",
   "metadata": {},
   "source": [
    "# Read in all dataset and Data Exploration Analysis "
   ]
  },
  {
   "cell_type": "code",
   "execution_count": 4,
   "metadata": {},
   "outputs": [],
   "source": [
    "import pandas as pd\n",
    "import matplotlib.pyplot as plt"
   ]
  },
  {
   "cell_type": "code",
   "execution_count": 1,
   "metadata": {},
   "outputs": [],
   "source": [
    "from pyspark.sql import SparkSession\n",
    "from pyspark.sql.functions import *\n",
    "from pyspark.sql.types import StructType, StructField, StringType, IntegerType, TimestampType\n",
    "spark = SparkSession.builder.appName('EDA').getOrCreate()"
   ]
  },
  {
   "cell_type": "code",
   "execution_count": null,
   "metadata": {},
   "outputs": [],
   "source": [
    "#%cd home/g593697882qq/archive"
   ]
  },
  {
   "cell_type": "code",
   "execution_count": null,
   "metadata": {},
   "outputs": [],
   "source": [
    "#df = pd.read_csv(\"amazon_reviews_us_Baby_v1_00.tsv\", sep='\\t', error_bad_lines=False)\n",
    "#df.shape"
   ]
  },
  {
   "cell_type": "markdown",
   "metadata": {},
   "source": [
    "## Read in all 12 (21.78GB) dataset by Pyspark and form into one dataset called `data`"
   ]
  },
  {
   "cell_type": "code",
   "execution_count": 5,
   "metadata": {},
   "outputs": [],
   "source": [
    "schema = StructType([ \\\n",
    "    StructField(\"marketplace\",       StringType(),    True), \\\n",
    "    StructField(\"customer_id\",       StringType(),    True), \\\n",
    "    StructField(\"review_id\",         StringType(),    True), \\\n",
    "    StructField(\"product_id\",        StringType(),    True), \\\n",
    "    StructField(\"product_parent\",    StringType(),    True), \\\n",
    "    StructField(\"product_title\",     StringType(),    True), \\\n",
    "    StructField(\"product_category\",  StringType(),    True), \\\n",
    "    StructField(\"star_rating\",       IntegerType(),   True), \\\n",
    "    StructField(\"helpful_votes\",     IntegerType(),   True), \\\n",
    "    StructField(\"total_votes\",       IntegerType(),   True), \\\n",
    "    StructField(\"vine\",              StringType(),    True), \\\n",
    "    StructField(\"verified_purchase\", StringType(),    True), \\\n",
    "    StructField(\"review_headline\",   StringType(),    True), \\\n",
    "    StructField(\"review_body\",       StringType(),    True), \\\n",
    "    StructField(\"review_date\",       TimestampType(), True), \\\n",
    "  ])\n",
    "\n",
    "path = ['archive/amazon_reviews_us_Apparel_v1_00.tsv',\n",
    "        'archive/amazon_reviews_us_Automotive_v1_00.tsv',\n",
    "        'archive/amazon_reviews_us_Baby_v1_00.tsv',\n",
    "        'archive/amazon_reviews_us_Beauty_v1_00.tsv',\n",
    "        'archive/amazon_reviews_us_Books_v1_02.tsv',\n",
    "        'archive/amazon_reviews_us_Camera_v1_00.tsv',\n",
    "        'archive/amazon_reviews_us_Electronics_v1_00.tsv',\n",
    "        'archive/amazon_reviews_us_Furniture_v1_00.tsv',\n",
    "        'archive/amazon_reviews_us_Sports_v1_00.tsv',\n",
    "        'archive/amazon_reviews_us_Grocery_v1_00.tsv',\n",
    "        'archive/amazon_reviews_us_Personal_Care_Appliances_v1_00.tsv',\n",
    "        'archive/amazon_reviews_us_Music_v1_00.tsv']\n",
    "\n",
    "data = spark.read.csv(path, schema=schema, header=True, sep='\\t', mode='DROPMALFORMED')"
   ]
  },
  {
   "cell_type": "code",
   "execution_count": 6,
   "metadata": {},
   "outputs": [
    {
     "name": "stdout",
     "output_type": "stream",
     "text": [
      "root\n",
      " |-- marketplace: string (nullable = true)\n",
      " |-- customer_id: string (nullable = true)\n",
      " |-- review_id: string (nullable = true)\n",
      " |-- product_id: string (nullable = true)\n",
      " |-- product_parent: string (nullable = true)\n",
      " |-- product_title: string (nullable = true)\n",
      " |-- product_category: string (nullable = true)\n",
      " |-- star_rating: integer (nullable = true)\n",
      " |-- helpful_votes: integer (nullable = true)\n",
      " |-- total_votes: integer (nullable = true)\n",
      " |-- vine: string (nullable = true)\n",
      " |-- verified_purchase: string (nullable = true)\n",
      " |-- review_headline: string (nullable = true)\n",
      " |-- review_body: string (nullable = true)\n",
      " |-- review_date: timestamp (nullable = true)\n",
      "\n"
     ]
    }
   ],
   "source": [
    "data.printSchema()"
   ]
  },
  {
   "cell_type": "markdown",
   "metadata": {},
   "source": [
    "### There are in total *37,173,725* records in this huge data (big data)"
   ]
  },
  {
   "cell_type": "code",
   "execution_count": null,
   "metadata": {},
   "outputs": [],
   "source": [
    "data.count()"
   ]
  },
  {
   "cell_type": "code",
   "execution_count": null,
   "metadata": {},
   "outputs": [],
   "source": [
    "data.show()"
   ]
  },
  {
   "cell_type": "markdown",
   "metadata": {},
   "source": [
    "## Data Exploration Analysis"
   ]
  },
  {
   "cell_type": "markdown",
   "metadata": {},
   "source": [
    "### Count reviews by each product category"
   ]
  },
  {
   "cell_type": "markdown",
   "metadata": {},
   "source": [
    "#### We observe that there are some dates and reviews apprearing in the product_category column."
   ]
  },
  {
   "cell_type": "code",
   "execution_count": null,
   "metadata": {},
   "outputs": [],
   "source": [
    "df_count = data.groupBy('product_category').count()\n",
    "df_count.show(df_count.count())"
   ]
  },
  {
   "cell_type": "markdown",
   "metadata": {},
   "source": [
    "#### We filter out dates and reviews in the product_category column and count each product category"
   ]
  },
  {
   "cell_type": "code",
   "execution_count": 7,
   "metadata": {},
   "outputs": [
    {
     "name": "stdout",
     "output_type": "stream",
     "text": [
      "+--------------------+-------+\n",
      "|    product_category|  count|\n",
      "+--------------------+-------+\n",
      "|              Sports|4849563|\n",
      "|                Baby|1752932|\n",
      "|             Apparel|5906322|\n",
      "|             Grocery|2402431|\n",
      "|         Electronics|3093861|\n",
      "|          Automotive|3514709|\n",
      "|               Books|3105515|\n",
      "|               Music|4751540|\n",
      "|           Furniture| 792113|\n",
      "|Personal_Care_App...|  85981|\n",
      "|              Camera|1801972|\n",
      "|              Beauty|5115452|\n",
      "+--------------------+-------+\n",
      "\n"
     ]
    }
   ],
   "source": [
    "product_category = ['Sports', 'Baby', 'Apparel', 'Grocery', 'Electronics', 'Automotive', 'Books', 'Music', 'Furniture', 'Personal_Care_Appliances', 'Camera', 'Beauty']\n",
    "data_filter = data.filter(data.product_category.isin(product_category))\n",
    "df_filter_count = data_filter.groupBy('product_category').count()\n",
    "df_filter_count.show(df_filter_count.count())"
   ]
  },
  {
   "cell_type": "code",
   "execution_count": null,
   "metadata": {},
   "outputs": [],
   "source": [
    "df_filter_count.toPandas().sort_values('count', ascending=False).plot.bar(x = 'product_category', y = 'count');"
   ]
  },
  {
   "cell_type": "markdown",
   "metadata": {},
   "source": [
    "### Which customers post the most reviews over this 20 years."
   ]
  },
  {
   "cell_type": "code",
   "execution_count": 11,
   "metadata": {},
   "outputs": [
    {
     "name": "stdout",
     "output_type": "stream",
     "text": [
      "+-----------+-----+\n",
      "|customer_id|count|\n",
      "+-----------+-----+\n",
      "|   50122160|22331|\n",
      "|   50732546| 9964|\n",
      "|   50736950| 7943|\n",
      "|   38214553| 5412|\n",
      "|   51184997| 5371|\n",
      "|   18116317| 4302|\n",
      "|   23267387| 4051|\n",
      "|   50345651| 3842|\n",
      "|   52496677| 3003|\n",
      "|   14539589| 2913|\n",
      "|   15725862| 2852|\n",
      "|   50913245| 2851|\n",
      "|   50881246| 2802|\n",
      "|   20018062| 2717|\n",
      "|   22073263| 2682|\n",
      "|   52615377| 2678|\n",
      "|   19380211| 2592|\n",
      "|   51381678| 2458|\n",
      "|   37455882| 2371|\n",
      "|   50441674| 2366|\n",
      "+-----------+-----+\n",
      "only showing top 20 rows\n",
      "\n"
     ]
    }
   ],
   "source": [
    "customer_count = data_filter.groupBy('customer_id').count()\n",
    "customer_count.sort(col('count').desc()).show()"
   ]
  },
  {
   "cell_type": "markdown",
   "metadata": {},
   "source": [
    "### How many customers show up in this data?"
   ]
  },
  {
   "cell_type": "code",
   "execution_count": 12,
   "metadata": {},
   "outputs": [
    {
     "data": {
      "text/plain": [
       "13863467"
      ]
     },
     "execution_count": 12,
     "metadata": {},
     "output_type": "execute_result"
    }
   ],
   "source": [
    "customer_count.count()"
   ]
  },
  {
   "cell_type": "code",
   "execution_count": null,
   "metadata": {},
   "outputs": [],
   "source": [
    "customer_count.toPandas().sort_values('count', ascending=False).head(20).plot.bar(x = 'customer_id', y = 'count');"
   ]
  },
  {
   "cell_type": "markdown",
   "metadata": {},
   "source": [
    "## The average rating of each product category and the top 20 customers"
   ]
  },
  {
   "cell_type": "code",
   "execution_count": 10,
   "metadata": {},
   "outputs": [
    {
     "name": "stdout",
     "output_type": "stream",
     "text": [
      "+--------------------+-----------------+\n",
      "|    product_category| avg(star_rating)|\n",
      "+--------------------+-----------------+\n",
      "|              Sports|4.229311795722625|\n",
      "|                Baby| 4.16268286505124|\n",
      "|             Apparel|4.105228939431342|\n",
      "|             Grocery|4.312228738307156|\n",
      "|         Electronics|4.035506443243571|\n",
      "|          Automotive|4.246287815008298|\n",
      "|               Books|4.182722672406992|\n",
      "|               Music| 4.43662139011773|\n",
      "|           Furniture|4.083948881030863|\n",
      "|Personal_Care_App...|3.977401984159291|\n",
      "|              Camera|4.127014737187925|\n",
      "|              Beauty|4.187214150382019|\n",
      "+--------------------+-----------------+\n",
      "\n"
     ]
    }
   ],
   "source": [
    "data_filter.groupBy('product_category').mean('star_rating').show()"
   ]
  },
  {
   "cell_type": "code",
   "execution_count": 15,
   "metadata": {},
   "outputs": [],
   "source": [
    "top20 = customer_count.sort(col('count').desc()).head(20)"
   ]
  },
  {
   "cell_type": "code",
   "execution_count": 24,
   "metadata": {},
   "outputs": [],
   "source": [
    "top20_l = list(map(lambda x : x[0], top20))"
   ]
  },
  {
   "cell_type": "code",
   "execution_count": 28,
   "metadata": {},
   "outputs": [
    {
     "name": "stdout",
     "output_type": "stream",
     "text": [
      "+-----------+------------------+\n",
      "|customer_id|  avg(star_rating)|\n",
      "+-----------+------------------+\n",
      "|   50122160|4.9980296448882715|\n",
      "|   14539589|4.9883281840027465|\n",
      "|   50345651| 4.980478917230609|\n",
      "|   20018062|4.9157158630842845|\n",
      "|   52496677| 4.812853812853813|\n",
      "|   22073263| 4.790454884414616|\n",
      "|   15725862| 4.745792426367461|\n",
      "|   50732546|4.6842633480529905|\n",
      "|   50913245| 4.518063837250088|\n",
      "|   52615377| 4.468259895444361|\n",
      "|   50441674| 4.431530008453086|\n",
      "|   51184997| 4.146155278346677|\n",
      "|   38214553| 4.131929046563193|\n",
      "|   18116317| 4.109019060901906|\n",
      "|   50736950| 4.078182047085484|\n",
      "|   37455882| 4.063264445381695|\n",
      "|   50881246| 4.026052819414704|\n",
      "|   23267387|3.9002715378918786|\n",
      "|   51381678| 3.882424735557364|\n",
      "|   19380211|2.9996141975308643|\n",
      "+-----------+------------------+\n",
      "\n"
     ]
    }
   ],
   "source": [
    "data_filter.filter(data_filter.customer_id.isin(top20_l)).groupBy('customer_id').mean('star_rating').sort(col('avg(star_rating)').desc()).show()\n",
    "\n"
   ]
  },
  {
   "cell_type": "code",
   "execution_count": null,
   "metadata": {},
   "outputs": [],
   "source": []
  }
 ],
 "metadata": {
  "kernelspec": {
   "display_name": "Python 3",
   "language": "python",
   "name": "python3"
  },
  "language_info": {
   "codemirror_mode": {
    "name": "ipython",
    "version": 3
   },
   "file_extension": ".py",
   "mimetype": "text/x-python",
   "name": "python",
   "nbconvert_exporter": "python",
   "pygments_lexer": "ipython3",
   "version": "3.7.4"
  }
 },
 "nbformat": 4,
 "nbformat_minor": 4
}
