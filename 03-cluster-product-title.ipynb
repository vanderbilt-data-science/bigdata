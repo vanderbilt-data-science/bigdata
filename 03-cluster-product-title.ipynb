{
 "cells": [
  {
   "cell_type": "markdown",
   "metadata": {},
   "source": [
    "# Cluster product titles into product category"
   ]
  },
  {
   "cell_type": "code",
   "execution_count": 1,
   "metadata": {},
   "outputs": [],
   "source": [
    "import pandas as pd\n",
    "import matplotlib.pyplot as plt\n",
    "\n",
    "from pyspark.sql import SparkSession\n",
    "from pyspark.sql.functions import *\n",
    "from pyspark.sql.types import StructType, StructField, StringType, IntegerType, TimestampType\n",
    "from pyspark.ml.evaluation import RegressionEvaluator\n",
    "from pyspark.ml.recommendation import ALS\n",
    "from pyspark.ml.feature import StringIndexer\n",
    "from pyspark.ml.feature import HashingTF, IDF, Tokenizer\n",
    "from pyspark.ml.feature import Word2Vec\n",
    "from pyspark.ml.clustering import KMeans\n",
    "\n",
    "spark = SparkSession.builder.appName('cluster').getOrCreate()"
   ]
  },
  {
   "cell_type": "markdown",
   "metadata": {},
   "source": [
    "## Read in 12 dataset"
   ]
  },
  {
   "cell_type": "code",
   "execution_count": 2,
   "metadata": {},
   "outputs": [],
   "source": [
    "schema = StructType([ \\\n",
    "    StructField(\"marketplace\",       StringType(),    True), \\\n",
    "    StructField(\"customer_id\",       StringType(),    True), \\\n",
    "    StructField(\"review_id\",         StringType(),    True), \\\n",
    "    StructField(\"product_id\",        StringType(),    True), \\\n",
    "    StructField(\"product_parent\",    StringType(),    True), \\\n",
    "    StructField(\"product_title\",     StringType(),    True), \\\n",
    "    StructField(\"product_category\",  StringType(),    True), \\\n",
    "    StructField(\"star_rating\",       IntegerType(),   True), \\\n",
    "    StructField(\"helpful_votes\",     IntegerType(),   True), \\\n",
    "    StructField(\"total_votes\",       IntegerType(),   True), \\\n",
    "    StructField(\"vine\",              StringType(),    True), \\\n",
    "    StructField(\"verified_purchase\", StringType(),    True), \\\n",
    "    StructField(\"review_headline\",   StringType(),    True), \\\n",
    "    StructField(\"review_body\",       StringType(),    True), \\\n",
    "    StructField(\"review_date\",       TimestampType(), True), \\\n",
    "  ])\n",
    "\n",
    "path = ['archive/amazon_reviews_us_Apparel_v1_00.tsv',\n",
    "        'archive/amazon_reviews_us_Automotive_v1_00.tsv',\n",
    "        'archive/amazon_reviews_us_Baby_v1_00.tsv',\n",
    "        'archive/amazon_reviews_us_Beauty_v1_00.tsv',\n",
    "        'archive/amazon_reviews_us_Books_v1_02.tsv',\n",
    "        'archive/amazon_reviews_us_Camera_v1_00.tsv',\n",
    "        'archive/amazon_reviews_us_Electronics_v1_00.tsv',\n",
    "        'archive/amazon_reviews_us_Furniture_v1_00.tsv',\n",
    "        'archive/amazon_reviews_us_Sports_v1_00.tsv',\n",
    "        'archive/amazon_reviews_us_Grocery_v1_00.tsv',\n",
    "        'archive/amazon_reviews_us_Personal_Care_Appliances_v1_00.tsv',\n",
    "        'archive/amazon_reviews_us_Music_v1_00.tsv']\n",
    "\n",
    "data = spark.read.csv(path, schema=schema, header=True, sep='\\t', mode='DROPMALFORMED')"
   ]
  },
  {
   "cell_type": "markdown",
   "metadata": {},
   "source": [
    "## Filter out malformated product category"
   ]
  },
  {
   "cell_type": "code",
   "execution_count": 3,
   "metadata": {},
   "outputs": [
    {
     "data": {
      "text/plain": [
       "37172391"
      ]
     },
     "execution_count": 3,
     "metadata": {},
     "output_type": "execute_result"
    }
   ],
   "source": [
    "product_category = ['Sports', 'Baby', 'Apparel', 'Grocery', 'Electronics', 'Automotive', 'Books', 'Music', 'Furniture', 'Personal_Care_Appliances', 'Camera', 'Beauty']\n",
    "data_filter = data.filter(data.product_category.isin(product_category))\n",
    "\n",
    "data_filter.count()"
   ]
  },
  {
   "cell_type": "markdown",
   "metadata": {},
   "source": [
    "## Select only title and category columns"
   ]
  },
  {
   "cell_type": "code",
   "execution_count": 4,
   "metadata": {},
   "outputs": [],
   "source": [
    "title = data_filter.select('product_title', 'product_category')"
   ]
  },
  {
   "cell_type": "code",
   "execution_count": 5,
   "metadata": {},
   "outputs": [
    {
     "name": "stdout",
     "output_type": "stream",
     "text": [
      "+--------------------+----------------+\n",
      "|       product_title|product_category|\n",
      "+--------------------+----------------+\n",
      "|Easy Tool Stainle...|         Apparel|\n",
      "|V28 Women Cowl Ne...|         Apparel|\n",
      "|James Fiallo Men'...|         Apparel|\n",
      "|Belfry Gangster 1...|         Apparel|\n",
      "|JAEDEN Women's Be...|         Apparel|\n",
      "|Levi's Boys' 514 ...|         Apparel|\n",
      "|Minimalist Wallet...|         Apparel|\n",
      "|Harriton Men's Ba...|         Apparel|\n",
      "|Jockey Women's Un...|         Apparel|\n",
      "|Alexander Del Ros...|         Apparel|\n",
      "|Jockey Women's Un...|         Apparel|\n",
      "|Bali Passion For ...|         Apparel|\n",
      "|Lilyette Women's ...|         Apparel|\n",
      "|Vanity Fair Women...|         Apparel|\n",
      "|Warner's Women's ...|         Apparel|\n",
      "|Columbia Women's ...|         Apparel|\n",
      "|Robes King RK Cla...|         Apparel|\n",
      "|VIV Collection Be...|         Apparel|\n",
      "|Fruit of the Loom...|         Apparel|\n",
      "|Jockey Scrubs Wom...|         Apparel|\n",
      "+--------------------+----------------+\n",
      "only showing top 20 rows\n",
      "\n"
     ]
    }
   ],
   "source": [
    "title.show()"
   ]
  },
  {
   "cell_type": "markdown",
   "metadata": {},
   "source": [
    "## Tokenize title column"
   ]
  },
  {
   "cell_type": "code",
   "execution_count": 6,
   "metadata": {},
   "outputs": [
    {
     "name": "stdout",
     "output_type": "stream",
     "text": [
      "+--------------------+----------------+--------------------+\n",
      "|       product_title|product_category|               words|\n",
      "+--------------------+----------------+--------------------+\n",
      "|Easy Tool Stainle...|         Apparel|[easy, tool, stai...|\n",
      "|V28 Women Cowl Ne...|         Apparel|[v28, women, cowl...|\n",
      "|James Fiallo Men'...|         Apparel|[james, fiallo, m...|\n",
      "|Belfry Gangster 1...|         Apparel|[belfry, gangster...|\n",
      "|JAEDEN Women's Be...|         Apparel|[jaeden, women's,...|\n",
      "|Levi's Boys' 514 ...|         Apparel|[levi's, boys', 5...|\n",
      "|Minimalist Wallet...|         Apparel|[minimalist, wall...|\n",
      "|Harriton Men's Ba...|         Apparel|[harriton, men's,...|\n",
      "|Jockey Women's Un...|         Apparel|[jockey, women's,...|\n",
      "|Alexander Del Ros...|         Apparel|[alexander, del, ...|\n",
      "|Jockey Women's Un...|         Apparel|[jockey, women's,...|\n",
      "|Bali Passion For ...|         Apparel|[bali, passion, f...|\n",
      "|Lilyette Women's ...|         Apparel|[lilyette, women'...|\n",
      "|Vanity Fair Women...|         Apparel|[vanity, fair, wo...|\n",
      "|Warner's Women's ...|         Apparel|[warner's, women'...|\n",
      "|Columbia Women's ...|         Apparel|[columbia, women'...|\n",
      "|Robes King RK Cla...|         Apparel|[robes, king, rk,...|\n",
      "|VIV Collection Be...|         Apparel|[viv, collection,...|\n",
      "|Fruit of the Loom...|         Apparel|[fruit, of, the, ...|\n",
      "|Jockey Scrubs Wom...|         Apparel|[jockey, scrubs, ...|\n",
      "+--------------------+----------------+--------------------+\n",
      "only showing top 20 rows\n",
      "\n"
     ]
    }
   ],
   "source": [
    "tokenizer = Tokenizer(inputCol=\"product_title\", outputCol=\"words\")\n",
    "wordsData = tokenizer.transform(title)\n",
    "wordsData.show()"
   ]
  },
  {
   "cell_type": "markdown",
   "metadata": {},
   "source": [
    "## Learn a mapping from words to Vectors."
   ]
  },
  {
   "cell_type": "code",
   "execution_count": null,
   "metadata": {},
   "outputs": [],
   "source": [
    "word2Vec = Word2Vec(vectorSize=3, minCount=0, inputCol=\"words\", outputCol=\"features\")\n",
    "model = word2Vec.fit(wordsData)\n",
    "\n",
    "result = model.transform(wordsData)\n",
    "#result.show(truncate=False)\n",
    "# Save this huge object\n",
    "result.write.save(\"word2vec.parquet\")"
   ]
  },
  {
   "cell_type": "code",
   "execution_count": 2,
   "metadata": {},
   "outputs": [],
   "source": [
    "# Reload from the disc\n",
    "result = spark.read.load(\"word2vec.parquet\")"
   ]
  },
  {
   "cell_type": "code",
   "execution_count": 3,
   "metadata": {},
   "outputs": [
    {
     "name": "stdout",
     "output_type": "stream",
     "text": [
      "+--------------------+----------------+--------------------+--------------------+\n",
      "|       product_title|product_category|               words|            features|\n",
      "+--------------------+----------------+--------------------+--------------------+\n",
      "|DC Sports Muffler...|      Automotive|[dc, sports, muff...|[0.32148125022649...|\n",
      "|Thrush 17713 Turb...|      Automotive|[thrush, 17713, t...|[0.18454607890453...|\n",
      "|Max Reflector Jum...|      Automotive|[max, reflector, ...|[-0.0210069790482...|\n",
      "|40 Inch LED Light...|      Automotive|[40, inch, led, l...|[0.11790505796670...|\n",
      "|9 MOON Matt Multi...|      Automotive|[9, moon, matt, m...|[0.03611409006749...|\n",
      "|Rampage Jeep 7689...|      Automotive|[rampage, jeep, 7...|[-0.1092054396867...|\n",
      "|Ameritree Mazda C...|      Automotive|[ameritree, mazda...|[0.11809038201018...|\n",
      "|Dorman 425-176 In...|      Automotive|[dorman, 425-176,...|[0.47730810344219...|\n",
      "|Dupli-Color Ceram...|      Automotive|[dupli-color, cer...|[-0.1952677858727...|\n",
      "|4-1/2\" Dent Pulle...|      Automotive|[4-1/2\", dent, pu...|[-0.0239783152937...|\n",
      "|Deluxe Car Trash ...|      Automotive|[deluxe, car, tra...|[-0.1078484738744...|\n",
      "|Teal Awareness Ri...|      Automotive|[teal, awareness,...|[-0.1032706970969...|\n",
      "|KeylessOption Key...|      Automotive|[keylessoption, k...|[0.39356845955957...|\n",
      "|Emgo (84-68592) D...|      Automotive|[emgo, (84-68592)...|[0.13759921056528...|\n",
      "|High Road Heavy-D...|      Automotive|[high, road, heav...|[0.19976143891108...|\n",
      "|600 lb. Trailer D...|      Automotive|[600, lb., traile...|[0.19214872161255...|\n",
      "|Chemical Guys WAC...|      Automotive|[chemical, guys, ...|[-0.0741493362275...|\n",
      "|Scat Pack Version...|      Automotive|[scat, pack, vers...|[-0.1941055278293...|\n",
      "|DB Electrical AVA...|      Automotive|[db, electrical, ...|[0.33500537251432...|\n",
      "|Krator Honda CBR ...|      Automotive|[krator, honda, c...|[0.14564397638397...|\n",
      "+--------------------+----------------+--------------------+--------------------+\n",
      "only showing top 20 rows\n",
      "\n"
     ]
    }
   ],
   "source": [
    "result.show()"
   ]
  },
  {
   "cell_type": "code",
   "execution_count": 4,
   "metadata": {},
   "outputs": [
    {
     "data": {
      "text/plain": [
       "37172391"
      ]
     },
     "execution_count": 4,
     "metadata": {},
     "output_type": "execute_result"
    }
   ],
   "source": [
    "result.count()"
   ]
  },
  {
   "cell_type": "markdown",
   "metadata": {},
   "source": [
    "## Trains a k-means model"
   ]
  },
  {
   "cell_type": "code",
   "execution_count": 3,
   "metadata": {},
   "outputs": [],
   "source": [
    "kmeans = KMeans(featuresCol='features', k=12)\n",
    "model = kmeans.fit(result)"
   ]
  },
  {
   "cell_type": "markdown",
   "metadata": {},
   "source": [
    "## Evaluate clustering by computing Within Set Sum of Squared Errors"
   ]
  },
  {
   "cell_type": "code",
   "execution_count": 4,
   "metadata": {},
   "outputs": [
    {
     "name": "stdout",
     "output_type": "stream",
     "text": [
      "4512713.083075685\n",
      "Within Set Sum of Squared Errors = 4512713.083075685\n"
     ]
    }
   ],
   "source": [
    "wssse = model.summary.trainingCost\n",
    "print(wssse)\n",
    "print(\"Within Set Sum of Squared Errors = \" + str(wssse))"
   ]
  },
  {
   "cell_type": "markdown",
   "metadata": {},
   "source": [
    "## Shows the center of each cluster"
   ]
  },
  {
   "cell_type": "code",
   "execution_count": 5,
   "metadata": {},
   "outputs": [
    {
     "name": "stdout",
     "output_type": "stream",
     "text": [
      "Cluster Centers: \n",
      "[-0.06756582  0.06419763 -0.24397379]\n",
      "[-0.38753292  0.10782893  0.28906787]\n",
      "[-0.28179655 -0.10252775 -0.6694482 ]\n",
      "[-0.45903388  0.713647    0.27148985]\n",
      "[0.89117916 0.12049009 0.30267616]\n",
      "[0.34814195 0.06660468 0.08241818]\n",
      "[-0.34397886  0.52769217 -0.19828648]\n",
      "[-0.22615748  0.62228281 -0.59484177]\n",
      "[ 0.48361393 -0.01003218 -0.56472573]\n",
      "[-0.04793732 -0.4490937  -0.36508855]\n",
      "[-0.38537371 -0.14404441 -0.20167984]\n",
      "[ 0.3654186  -0.74665895 -0.0526108 ]\n"
     ]
    }
   ],
   "source": [
    "centers = model.clusterCenters()\n",
    "print(\"Cluster Centers: \")\n",
    "for center in centers:\n",
    "    print(center)"
   ]
  },
  {
   "cell_type": "markdown",
   "metadata": {},
   "source": [
    "## Get the clustering prediction"
   ]
  },
  {
   "cell_type": "code",
   "execution_count": 6,
   "metadata": {},
   "outputs": [
    {
     "name": "stdout",
     "output_type": "stream",
     "text": [
      "+----------+\n",
      "|prediction|\n",
      "+----------+\n",
      "|        11|\n",
      "|        11|\n",
      "|         9|\n",
      "|         5|\n",
      "|         9|\n",
      "|         9|\n",
      "|         9|\n",
      "|        11|\n",
      "|         1|\n",
      "|         0|\n",
      "|         0|\n",
      "|         9|\n",
      "|        11|\n",
      "|        11|\n",
      "|         9|\n",
      "|         9|\n",
      "|         0|\n",
      "|         0|\n",
      "|        11|\n",
      "|         9|\n",
      "+----------+\n",
      "only showing top 20 rows\n",
      "\n"
     ]
    }
   ],
   "source": [
    "pred = model.transform(result).select('prediction')\n",
    "pred.show()"
   ]
  },
  {
   "cell_type": "code",
   "execution_count": 7,
   "metadata": {},
   "outputs": [
    {
     "data": {
      "text/plain": [
       "37172391"
      ]
     },
     "execution_count": 7,
     "metadata": {},
     "output_type": "execute_result"
    }
   ],
   "source": [
    "pred.count()"
   ]
  },
  {
   "cell_type": "markdown",
   "metadata": {},
   "source": [
    "## Calculate the clustering error within each group"
   ]
  },
  {
   "cell_type": "code",
   "execution_count": 8,
   "metadata": {},
   "outputs": [
    {
     "name": "stdout",
     "output_type": "stream",
     "text": [
      "+--------------------+----------------+--------------------+--------------------+----+----------+----+\n",
      "|       product_title|product_category|               words|            features|  id|prediction|  id|\n",
      "+--------------------+----------------+--------------------+--------------------+----+----------+----+\n",
      "|YTX14-BS GEL 12V ...|      Automotive|[ytx14-bs, gel, 1...|[0.16303894590390...|  26|         5|  26|\n",
      "|OPT7 Show Glow CR...|      Automotive|[opt7, show, glow...|[0.34752524892489...|  29|         5|  29|\n",
      "|6 New NGK Laser P...|      Automotive|[6, new, ngk, las...|[0.16509262192994...| 474|        11| 474|\n",
      "|Kayo Maxtar Porta...|      Automotive|[kayo, maxtar, po...|[0.21503228770702...| 964|         5| 964|\n",
      "|Oro-Tek OSC-0087 ...|      Automotive|[oro-tek, osc-008...|[0.42032591719180...|1677|        11|1677|\n",
      "|Thetford 31705  A...|      Automotive|[thetford, 31705,...|[0.31676158971256...|1697|        11|1697|\n",
      "|Leading Edge Ligh...|      Automotive|[leading, edge, l...|[0.07229277033072...|1806|         0|1806|\n",
      "|Yamaha 23F2450011...|      Automotive|[yamaha, 23f24500...|[0.43037005532532...|1950|        11|1950|\n",
      "|Hayden Automotive...|      Automotive|[hayden, automoti...|[0.28244905386652...|2040|        11|2040|\n",
      "|ACDelco 17D785CH ...|      Automotive|[acdelco, 17d785c...|[0.08432503706879...|2214|        11|2214|\n",
      "|LOW PROFILE NOVEL...|      Automotive|[low, profile, no...|[0.19956667212148...|2250|         9|2250|\n",
      "|Cable, T3 Slideli...|      Automotive|[cable,, t3, slid...|[0.33223284184932...|2453|         5|2453|\n",
      "|Seatbelt Cutter W...|      Automotive|[seatbelt, cutter...|[0.15390222022930...|2509|         9|2509|\n",
      "|NOCO Oz Battery C...|      Automotive|[noco, oz, batter...|[0.13090245798230...|2529|         5|2529|\n",
      "|CarPartsDepot, Dr...|      Automotive|[carpartsdepot,, ...|[0.38742474753123...|2927|        11|2927|\n",
      "|Leather Steering ...|      Automotive|[leather, steerin...|[0.17507458828827...|3091|        11|3091|\n",
      "|Titan Tools 19424...|      Automotive|[titan, tools, 19...|[-0.1999271634433...|3506|         0|3506|\n",
      "|Raybestos FRC1162...|      Automotive|[raybestos, frc11...|[0.60105153752697...|3764|        11|3764|\n",
      "|HFS (R) 2 in 1 Br...|      Automotive|[hfs, (r), 2, in,...|[0.05756996472676...|4590|         5|4590|\n",
      "|Worthtrust Slim 1...|      Automotive|[worthtrust, slim...|[0.27863628417253...|4823|         5|4823|\n",
      "+--------------------+----------------+--------------------+--------------------+----+----------+----+\n",
      "only showing top 20 rows\n",
      "\n"
     ]
    }
   ],
   "source": [
    "df1 = result.withColumn(\"id\", monotonically_increasing_id() )\n",
    "df2 = pred.withColumn(\"id\", monotonically_increasing_id() )\n",
    "\n",
    "df = df1.join(df2, df1.id == df2.id, how='inner')\n",
    "df.show()"
   ]
  },
  {
   "cell_type": "code",
   "execution_count": null,
   "metadata": {},
   "outputs": [],
   "source": [
    "df.write.save(\"clustering.parquet\")"
   ]
  },
  {
   "cell_type": "code",
   "execution_count": null,
   "metadata": {},
   "outputs": [],
   "source": []
  }
 ],
 "metadata": {
  "kernelspec": {
   "display_name": "Python 3",
   "language": "python",
   "name": "python3"
  },
  "language_info": {
   "codemirror_mode": {
    "name": "ipython",
    "version": 3
   },
   "file_extension": ".py",
   "mimetype": "text/x-python",
   "name": "python",
   "nbconvert_exporter": "python",
   "pygments_lexer": "ipython3",
   "version": "3.7.4"
  }
 },
 "nbformat": 4,
 "nbformat_minor": 4
}
