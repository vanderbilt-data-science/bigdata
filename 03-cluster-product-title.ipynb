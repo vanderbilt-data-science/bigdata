{
 "cells": [
  {
   "cell_type": "markdown",
   "metadata": {},
   "source": [
    "# Cluster product titles into product category"
   ]
  },
  {
   "cell_type": "code",
   "execution_count": 5,
   "metadata": {},
   "outputs": [],
   "source": [
    "import pandas as pd\n",
    "import matplotlib.pyplot as plt\n",
    "\n",
    "from pyspark.sql import SparkSession\n",
    "from pyspark.sql.functions import *\n",
    "from pyspark.sql.types import StructType, StructField, StringType, IntegerType, TimestampType\n",
    "from pyspark.ml.evaluation import RegressionEvaluator\n",
    "from pyspark.ml.recommendation import ALS\n",
    "from pyspark.ml.feature import StringIndexer\n",
    "from pyspark.ml.feature import HashingTF, IDF, Tokenizer\n",
    "from pyspark.ml.feature import Word2Vec\n",
    "from pyspark.ml.clustering import KMeans\n",
    "\n",
    "spark = SparkSession.builder.appName('cluster').getOrCreate()"
   ]
  },
  {
   "cell_type": "markdown",
   "metadata": {},
   "source": [
    "## Read in 12 dataset"
   ]
  },
  {
   "cell_type": "code",
   "execution_count": 2,
   "metadata": {},
   "outputs": [],
   "source": [
    "schema = StructType([ \\\n",
    "    StructField(\"marketplace\",       StringType(),    True), \\\n",
    "    StructField(\"customer_id\",       StringType(),    True), \\\n",
    "    StructField(\"review_id\",         StringType(),    True), \\\n",
    "    StructField(\"product_id\",        StringType(),    True), \\\n",
    "    StructField(\"product_parent\",    StringType(),    True), \\\n",
    "    StructField(\"product_title\",     StringType(),    True), \\\n",
    "    StructField(\"product_category\",  StringType(),    True), \\\n",
    "    StructField(\"star_rating\",       IntegerType(),   True), \\\n",
    "    StructField(\"helpful_votes\",     IntegerType(),   True), \\\n",
    "    StructField(\"total_votes\",       IntegerType(),   True), \\\n",
    "    StructField(\"vine\",              StringType(),    True), \\\n",
    "    StructField(\"verified_purchase\", StringType(),    True), \\\n",
    "    StructField(\"review_headline\",   StringType(),    True), \\\n",
    "    StructField(\"review_body\",       StringType(),    True), \\\n",
    "    StructField(\"review_date\",       TimestampType(), True), \\\n",
    "  ])\n",
    "\n",
    "path = ['archive/amazon_reviews_us_Apparel_v1_00.tsv',\n",
    "        'archive/amazon_reviews_us_Automotive_v1_00.tsv',\n",
    "        'archive/amazon_reviews_us_Baby_v1_00.tsv',\n",
    "        'archive/amazon_reviews_us_Beauty_v1_00.tsv',\n",
    "        'archive/amazon_reviews_us_Books_v1_02.tsv',\n",
    "        'archive/amazon_reviews_us_Camera_v1_00.tsv',\n",
    "        'archive/amazon_reviews_us_Electronics_v1_00.tsv',\n",
    "        'archive/amazon_reviews_us_Furniture_v1_00.tsv',\n",
    "        'archive/amazon_reviews_us_Sports_v1_00.tsv',\n",
    "        'archive/amazon_reviews_us_Grocery_v1_00.tsv',\n",
    "        'archive/amazon_reviews_us_Personal_Care_Appliances_v1_00.tsv',\n",
    "        'archive/amazon_reviews_us_Music_v1_00.tsv']\n",
    "\n",
    "data = spark.read.csv(path, schema=schema, header=True, sep='\\t', mode='DROPMALFORMED')"
   ]
  },
  {
   "cell_type": "markdown",
   "metadata": {},
   "source": [
    "## Filter out malformated product category"
   ]
  },
  {
   "cell_type": "code",
   "execution_count": 3,
   "metadata": {},
   "outputs": [
    {
     "data": {
      "text/plain": [
       "37172391"
      ]
     },
     "execution_count": 3,
     "metadata": {},
     "output_type": "execute_result"
    }
   ],
   "source": [
    "product_category = ['Sports', 'Baby', 'Apparel', 'Grocery', 'Electronics', 'Automotive', 'Books', 'Music', 'Furniture', 'Personal_Care_Appliances', 'Camera', 'Beauty']\n",
    "data_filter = data.filter(data.product_category.isin(product_category))\n",
    "\n",
    "data_filter.count()"
   ]
  },
  {
   "cell_type": "markdown",
   "metadata": {},
   "source": [
    "## Select only title and category columns"
   ]
  },
  {
   "cell_type": "code",
   "execution_count": 4,
   "metadata": {},
   "outputs": [],
   "source": [
    "title = data_filter.select('product_title', 'product_category')"
   ]
  },
  {
   "cell_type": "code",
   "execution_count": 5,
   "metadata": {},
   "outputs": [
    {
     "name": "stdout",
     "output_type": "stream",
     "text": [
      "+--------------------+----------------+\n",
      "|       product_title|product_category|\n",
      "+--------------------+----------------+\n",
      "|Easy Tool Stainle...|         Apparel|\n",
      "|V28 Women Cowl Ne...|         Apparel|\n",
      "|James Fiallo Men'...|         Apparel|\n",
      "|Belfry Gangster 1...|         Apparel|\n",
      "|JAEDEN Women's Be...|         Apparel|\n",
      "|Levi's Boys' 514 ...|         Apparel|\n",
      "|Minimalist Wallet...|         Apparel|\n",
      "|Harriton Men's Ba...|         Apparel|\n",
      "|Jockey Women's Un...|         Apparel|\n",
      "|Alexander Del Ros...|         Apparel|\n",
      "|Jockey Women's Un...|         Apparel|\n",
      "|Bali Passion For ...|         Apparel|\n",
      "|Lilyette Women's ...|         Apparel|\n",
      "|Vanity Fair Women...|         Apparel|\n",
      "|Warner's Women's ...|         Apparel|\n",
      "|Columbia Women's ...|         Apparel|\n",
      "|Robes King RK Cla...|         Apparel|\n",
      "|VIV Collection Be...|         Apparel|\n",
      "|Fruit of the Loom...|         Apparel|\n",
      "|Jockey Scrubs Wom...|         Apparel|\n",
      "+--------------------+----------------+\n",
      "only showing top 20 rows\n",
      "\n"
     ]
    }
   ],
   "source": [
    "title.show()"
   ]
  },
  {
   "cell_type": "markdown",
   "metadata": {},
   "source": [
    "## Tokenize title column"
   ]
  },
  {
   "cell_type": "code",
   "execution_count": 6,
   "metadata": {},
   "outputs": [
    {
     "name": "stdout",
     "output_type": "stream",
     "text": [
      "+--------------------+----------------+--------------------+\n",
      "|       product_title|product_category|               words|\n",
      "+--------------------+----------------+--------------------+\n",
      "|Easy Tool Stainle...|         Apparel|[easy, tool, stai...|\n",
      "|V28 Women Cowl Ne...|         Apparel|[v28, women, cowl...|\n",
      "|James Fiallo Men'...|         Apparel|[james, fiallo, m...|\n",
      "|Belfry Gangster 1...|         Apparel|[belfry, gangster...|\n",
      "|JAEDEN Women's Be...|         Apparel|[jaeden, women's,...|\n",
      "|Levi's Boys' 514 ...|         Apparel|[levi's, boys', 5...|\n",
      "|Minimalist Wallet...|         Apparel|[minimalist, wall...|\n",
      "|Harriton Men's Ba...|         Apparel|[harriton, men's,...|\n",
      "|Jockey Women's Un...|         Apparel|[jockey, women's,...|\n",
      "|Alexander Del Ros...|         Apparel|[alexander, del, ...|\n",
      "|Jockey Women's Un...|         Apparel|[jockey, women's,...|\n",
      "|Bali Passion For ...|         Apparel|[bali, passion, f...|\n",
      "|Lilyette Women's ...|         Apparel|[lilyette, women'...|\n",
      "|Vanity Fair Women...|         Apparel|[vanity, fair, wo...|\n",
      "|Warner's Women's ...|         Apparel|[warner's, women'...|\n",
      "|Columbia Women's ...|         Apparel|[columbia, women'...|\n",
      "|Robes King RK Cla...|         Apparel|[robes, king, rk,...|\n",
      "|VIV Collection Be...|         Apparel|[viv, collection,...|\n",
      "|Fruit of the Loom...|         Apparel|[fruit, of, the, ...|\n",
      "|Jockey Scrubs Wom...|         Apparel|[jockey, scrubs, ...|\n",
      "+--------------------+----------------+--------------------+\n",
      "only showing top 20 rows\n",
      "\n"
     ]
    }
   ],
   "source": [
    "tokenizer = Tokenizer(inputCol=\"product_title\", outputCol=\"words\")\n",
    "wordsData = tokenizer.transform(title)\n",
    "wordsData.show()"
   ]
  },
  {
   "cell_type": "markdown",
   "metadata": {},
   "source": [
    "## Learn a mapping from words to Vectors."
   ]
  },
  {
   "cell_type": "code",
   "execution_count": null,
   "metadata": {},
   "outputs": [],
   "source": [
    "word2Vec = Word2Vec(vectorSize=3, minCount=0, inputCol=\"words\", outputCol=\"features\")\n",
    "model = word2Vec.fit(wordsData)\n",
    "\n",
    "result = model.transform(wordsData)\n",
    "#result.show(truncate=False)\n",
    "# Save this huge object\n",
    "result.write.save(\"word2vec.parquet\")"
   ]
  },
  {
   "cell_type": "code",
   "execution_count": 2,
   "metadata": {},
   "outputs": [],
   "source": [
    "# Reload from the disc\n",
    "result = spark.read.load(\"word2vec.parquet\")"
   ]
  },
  {
   "cell_type": "code",
   "execution_count": 3,
   "metadata": {},
   "outputs": [
    {
     "name": "stdout",
     "output_type": "stream",
     "text": [
      "+--------------------+----------------+--------------------+--------------------+\n",
      "|       product_title|product_category|               words|            features|\n",
      "+--------------------+----------------+--------------------+--------------------+\n",
      "|DC Sports Muffler...|      Automotive|[dc, sports, muff...|[0.32148125022649...|\n",
      "|Thrush 17713 Turb...|      Automotive|[thrush, 17713, t...|[0.18454607890453...|\n",
      "|Max Reflector Jum...|      Automotive|[max, reflector, ...|[-0.0210069790482...|\n",
      "|40 Inch LED Light...|      Automotive|[40, inch, led, l...|[0.11790505796670...|\n",
      "|9 MOON Matt Multi...|      Automotive|[9, moon, matt, m...|[0.03611409006749...|\n",
      "|Rampage Jeep 7689...|      Automotive|[rampage, jeep, 7...|[-0.1092054396867...|\n",
      "|Ameritree Mazda C...|      Automotive|[ameritree, mazda...|[0.11809038201018...|\n",
      "|Dorman 425-176 In...|      Automotive|[dorman, 425-176,...|[0.47730810344219...|\n",
      "|Dupli-Color Ceram...|      Automotive|[dupli-color, cer...|[-0.1952677858727...|\n",
      "|4-1/2\" Dent Pulle...|      Automotive|[4-1/2\", dent, pu...|[-0.0239783152937...|\n",
      "|Deluxe Car Trash ...|      Automotive|[deluxe, car, tra...|[-0.1078484738744...|\n",
      "|Teal Awareness Ri...|      Automotive|[teal, awareness,...|[-0.1032706970969...|\n",
      "|KeylessOption Key...|      Automotive|[keylessoption, k...|[0.39356845955957...|\n",
      "|Emgo (84-68592) D...|      Automotive|[emgo, (84-68592)...|[0.13759921056528...|\n",
      "|High Road Heavy-D...|      Automotive|[high, road, heav...|[0.19976143891108...|\n",
      "|600 lb. Trailer D...|      Automotive|[600, lb., traile...|[0.19214872161255...|\n",
      "|Chemical Guys WAC...|      Automotive|[chemical, guys, ...|[-0.0741493362275...|\n",
      "|Scat Pack Version...|      Automotive|[scat, pack, vers...|[-0.1941055278293...|\n",
      "|DB Electrical AVA...|      Automotive|[db, electrical, ...|[0.33500537251432...|\n",
      "|Krator Honda CBR ...|      Automotive|[krator, honda, c...|[0.14564397638397...|\n",
      "+--------------------+----------------+--------------------+--------------------+\n",
      "only showing top 20 rows\n",
      "\n"
     ]
    }
   ],
   "source": [
    "result.show()"
   ]
  },
  {
   "cell_type": "code",
   "execution_count": 4,
   "metadata": {},
   "outputs": [
    {
     "data": {
      "text/plain": [
       "37172391"
      ]
     },
     "execution_count": 4,
     "metadata": {},
     "output_type": "execute_result"
    }
   ],
   "source": [
    "result.count()"
   ]
  },
  {
   "cell_type": "markdown",
   "metadata": {},
   "source": [
    "## Trains a k-means model"
   ]
  },
  {
   "cell_type": "code",
   "execution_count": 6,
   "metadata": {},
   "outputs": [],
   "source": [
    "kmeans = KMeans(featuresCol='features', k=12)\n",
    "model = kmeans.fit(result)"
   ]
  },
  {
   "cell_type": "markdown",
   "metadata": {},
   "source": [
    "## Evaluate clustering by computing Within Set Sum of Squared Errors"
   ]
  },
  {
   "cell_type": "code",
   "execution_count": 7,
   "metadata": {},
   "outputs": [
    {
     "name": "stdout",
     "output_type": "stream",
     "text": [
      "4379751.978811486\n",
      "Within Set Sum of Squared Errors = 4379751.978811486\n"
     ]
    }
   ],
   "source": [
    "wssse = model.summary.trainingCost\n",
    "print(wssse)\n",
    "print(\"Within Set Sum of Squared Errors = \" + str(wssse))"
   ]
  },
  {
   "cell_type": "markdown",
   "metadata": {},
   "source": [
    "## Shows the center of each cluster"
   ]
  },
  {
   "cell_type": "code",
   "execution_count": 8,
   "metadata": {},
   "outputs": [
    {
     "name": "stdout",
     "output_type": "stream",
     "text": [
      "Cluster Centers: \n",
      "[-0.32705699  0.63022284 -0.27794393]\n",
      "[0.27811714 0.02436611 0.02996601]\n",
      "[ 0.22405274 -0.70476675 -0.17997799]\n",
      "[-0.0219142  -0.18508751 -0.45325186]\n",
      "[-0.40367734 -0.34101439 -0.36986007]\n",
      "[-0.45077347  0.64362074  0.24095571]\n",
      "[0.63297193 0.50869533 0.40082418]\n",
      "[ 0.55308908  0.05745925 -0.56633567]\n",
      "[-0.26176982  0.09808739 -0.16083401]\n",
      "[-0.22111291  0.44749484 -0.67694548]\n",
      "[-0.42625574  0.00118084  0.38905338]\n",
      "[ 0.90312131 -0.17402926  0.20086139]\n"
     ]
    }
   ],
   "source": [
    "centers = model.clusterCenters()\n",
    "print(\"Cluster Centers: \")\n",
    "for center in centers:\n",
    "    print(center)"
   ]
  },
  {
   "cell_type": "markdown",
   "metadata": {},
   "source": [
    "## Show the prediction"
   ]
  },
  {
   "cell_type": "code",
   "execution_count": 9,
   "metadata": {},
   "outputs": [
    {
     "name": "stdout",
     "output_type": "stream",
     "text": [
      "+----------+\n",
      "|prediction|\n",
      "+----------+\n",
      "|         2|\n",
      "|         2|\n",
      "|         3|\n",
      "|         1|\n",
      "|         3|\n",
      "|         4|\n",
      "|         2|\n",
      "|         2|\n",
      "|         8|\n",
      "|         8|\n",
      "|         8|\n",
      "|         3|\n",
      "|         2|\n",
      "|         2|\n",
      "|         3|\n",
      "|         3|\n",
      "|         8|\n",
      "|         8|\n",
      "|         2|\n",
      "|         2|\n",
      "+----------+\n",
      "only showing top 20 rows\n",
      "\n"
     ]
    }
   ],
   "source": [
    "model.transform(result).select('prediction').show()"
   ]
  },
  {
   "cell_type": "code",
   "execution_count": null,
   "metadata": {},
   "outputs": [],
   "source": []
  }
 ],
 "metadata": {
  "kernelspec": {
   "display_name": "Python 3",
   "language": "python",
   "name": "python3"
  },
  "language_info": {
   "codemirror_mode": {
    "name": "ipython",
    "version": 3
   },
   "file_extension": ".py",
   "mimetype": "text/x-python",
   "name": "python",
   "nbconvert_exporter": "python",
   "pygments_lexer": "ipython3",
   "version": "3.7.4"
  }
 },
 "nbformat": 4,
 "nbformat_minor": 4
}
