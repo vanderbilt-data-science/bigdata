{
 "cells": [
  {
   "cell_type": "markdown",
   "metadata": {},
   "source": [
    "# Cluster product titles into product category"
   ]
  },
  {
   "cell_type": "code",
   "execution_count": 8,
   "metadata": {},
   "outputs": [],
   "source": [
    "import pandas as pd\n",
    "import matplotlib.pyplot as plt\n",
    "\n",
    "from pyspark.sql import SparkSession\n",
    "from pyspark.sql.functions import *\n",
    "from pyspark.sql.types import StructType, StructField, StringType, IntegerType, TimestampType\n",
    "from pyspark.ml.evaluation import RegressionEvaluator\n",
    "from pyspark.ml.recommendation import ALS\n",
    "from pyspark.ml.feature import StringIndexer\n",
    "from pyspark.ml.feature import HashingTF, IDF, Tokenizer\n",
    "from pyspark.ml.feature import Word2Vec\n",
    "from pyspark.ml.clustering import KMeans\n",
    "\n",
    "spark = SparkSession.builder.appName('cluster').getOrCreate()"
   ]
  },
  {
   "cell_type": "markdown",
   "metadata": {},
   "source": [
    "## Read in 12 dataset"
   ]
  },
  {
   "cell_type": "code",
   "execution_count": 2,
   "metadata": {},
   "outputs": [],
   "source": [
    "schema = StructType([ \\\n",
    "    StructField(\"marketplace\",       StringType(),    True), \\\n",
    "    StructField(\"customer_id\",       StringType(),    True), \\\n",
    "    StructField(\"review_id\",         StringType(),    True), \\\n",
    "    StructField(\"product_id\",        StringType(),    True), \\\n",
    "    StructField(\"product_parent\",    StringType(),    True), \\\n",
    "    StructField(\"product_title\",     StringType(),    True), \\\n",
    "    StructField(\"product_category\",  StringType(),    True), \\\n",
    "    StructField(\"star_rating\",       IntegerType(),   True), \\\n",
    "    StructField(\"helpful_votes\",     IntegerType(),   True), \\\n",
    "    StructField(\"total_votes\",       IntegerType(),   True), \\\n",
    "    StructField(\"vine\",              StringType(),    True), \\\n",
    "    StructField(\"verified_purchase\", StringType(),    True), \\\n",
    "    StructField(\"review_headline\",   StringType(),    True), \\\n",
    "    StructField(\"review_body\",       StringType(),    True), \\\n",
    "    StructField(\"review_date\",       TimestampType(), True), \\\n",
    "  ])\n",
    "\n",
    "path = ['archive/amazon_reviews_us_Apparel_v1_00.tsv',\n",
    "        'archive/amazon_reviews_us_Automotive_v1_00.tsv',\n",
    "        'archive/amazon_reviews_us_Baby_v1_00.tsv',\n",
    "        'archive/amazon_reviews_us_Beauty_v1_00.tsv',\n",
    "        'archive/amazon_reviews_us_Books_v1_02.tsv',\n",
    "        'archive/amazon_reviews_us_Camera_v1_00.tsv',\n",
    "        'archive/amazon_reviews_us_Electronics_v1_00.tsv',\n",
    "        'archive/amazon_reviews_us_Furniture_v1_00.tsv',\n",
    "        'archive/amazon_reviews_us_Sports_v1_00.tsv',\n",
    "        'archive/amazon_reviews_us_Grocery_v1_00.tsv',\n",
    "        'archive/amazon_reviews_us_Personal_Care_Appliances_v1_00.tsv',\n",
    "        'archive/amazon_reviews_us_Music_v1_00.tsv']\n",
    "\n",
    "data = spark.read.csv(path, schema=schema, header=True, sep='\\t', mode='DROPMALFORMED')"
   ]
  },
  {
   "cell_type": "markdown",
   "metadata": {},
   "source": [
    "## Filter out malformated product category"
   ]
  },
  {
   "cell_type": "code",
   "execution_count": 3,
   "metadata": {},
   "outputs": [
    {
     "data": {
      "text/plain": [
       "37172391"
      ]
     },
     "execution_count": 3,
     "metadata": {},
     "output_type": "execute_result"
    }
   ],
   "source": [
    "product_category = ['Sports', 'Baby', 'Apparel', 'Grocery', 'Electronics', 'Automotive', 'Books', 'Music', 'Furniture', 'Personal_Care_Appliances', 'Camera', 'Beauty']\n",
    "data_filter = data.filter(data.product_category.isin(product_category))\n",
    "\n",
    "data_filter.count()"
   ]
  },
  {
   "cell_type": "markdown",
   "metadata": {},
   "source": [
    "## Select only title and category columns"
   ]
  },
  {
   "cell_type": "code",
   "execution_count": 4,
   "metadata": {},
   "outputs": [],
   "source": [
    "title = data_filter.select('product_title', 'product_category')"
   ]
  },
  {
   "cell_type": "code",
   "execution_count": 5,
   "metadata": {},
   "outputs": [
    {
     "name": "stdout",
     "output_type": "stream",
     "text": [
      "+--------------------+----------------+\n",
      "|       product_title|product_category|\n",
      "+--------------------+----------------+\n",
      "|Easy Tool Stainle...|         Apparel|\n",
      "|V28 Women Cowl Ne...|         Apparel|\n",
      "|James Fiallo Men'...|         Apparel|\n",
      "|Belfry Gangster 1...|         Apparel|\n",
      "|JAEDEN Women's Be...|         Apparel|\n",
      "|Levi's Boys' 514 ...|         Apparel|\n",
      "|Minimalist Wallet...|         Apparel|\n",
      "|Harriton Men's Ba...|         Apparel|\n",
      "|Jockey Women's Un...|         Apparel|\n",
      "|Alexander Del Ros...|         Apparel|\n",
      "|Jockey Women's Un...|         Apparel|\n",
      "|Bali Passion For ...|         Apparel|\n",
      "|Lilyette Women's ...|         Apparel|\n",
      "|Vanity Fair Women...|         Apparel|\n",
      "|Warner's Women's ...|         Apparel|\n",
      "|Columbia Women's ...|         Apparel|\n",
      "|Robes King RK Cla...|         Apparel|\n",
      "|VIV Collection Be...|         Apparel|\n",
      "|Fruit of the Loom...|         Apparel|\n",
      "|Jockey Scrubs Wom...|         Apparel|\n",
      "+--------------------+----------------+\n",
      "only showing top 20 rows\n",
      "\n"
     ]
    }
   ],
   "source": [
    "title.show()"
   ]
  },
  {
   "cell_type": "markdown",
   "metadata": {},
   "source": [
    "## Tokenize title column"
   ]
  },
  {
   "cell_type": "code",
   "execution_count": 6,
   "metadata": {},
   "outputs": [
    {
     "name": "stdout",
     "output_type": "stream",
     "text": [
      "+--------------------+----------------+--------------------+\n",
      "|       product_title|product_category|               words|\n",
      "+--------------------+----------------+--------------------+\n",
      "|Easy Tool Stainle...|         Apparel|[easy, tool, stai...|\n",
      "|V28 Women Cowl Ne...|         Apparel|[v28, women, cowl...|\n",
      "|James Fiallo Men'...|         Apparel|[james, fiallo, m...|\n",
      "|Belfry Gangster 1...|         Apparel|[belfry, gangster...|\n",
      "|JAEDEN Women's Be...|         Apparel|[jaeden, women's,...|\n",
      "|Levi's Boys' 514 ...|         Apparel|[levi's, boys', 5...|\n",
      "|Minimalist Wallet...|         Apparel|[minimalist, wall...|\n",
      "|Harriton Men's Ba...|         Apparel|[harriton, men's,...|\n",
      "|Jockey Women's Un...|         Apparel|[jockey, women's,...|\n",
      "|Alexander Del Ros...|         Apparel|[alexander, del, ...|\n",
      "|Jockey Women's Un...|         Apparel|[jockey, women's,...|\n",
      "|Bali Passion For ...|         Apparel|[bali, passion, f...|\n",
      "|Lilyette Women's ...|         Apparel|[lilyette, women'...|\n",
      "|Vanity Fair Women...|         Apparel|[vanity, fair, wo...|\n",
      "|Warner's Women's ...|         Apparel|[warner's, women'...|\n",
      "|Columbia Women's ...|         Apparel|[columbia, women'...|\n",
      "|Robes King RK Cla...|         Apparel|[robes, king, rk,...|\n",
      "|VIV Collection Be...|         Apparel|[viv, collection,...|\n",
      "|Fruit of the Loom...|         Apparel|[fruit, of, the, ...|\n",
      "|Jockey Scrubs Wom...|         Apparel|[jockey, scrubs, ...|\n",
      "+--------------------+----------------+--------------------+\n",
      "only showing top 20 rows\n",
      "\n"
     ]
    }
   ],
   "source": [
    "tokenizer = Tokenizer(inputCol=\"product_title\", outputCol=\"words\")\n",
    "wordsData = tokenizer.transform(title)\n",
    "wordsData.show()"
   ]
  },
  {
   "cell_type": "markdown",
   "metadata": {},
   "source": [
    "## Learn a mapping from words to Vectors."
   ]
  },
  {
   "cell_type": "code",
   "execution_count": null,
   "metadata": {},
   "outputs": [],
   "source": [
    "word2Vec = Word2Vec(vectorSize=3, minCount=0, inputCol=\"words\", outputCol=\"features\")\n",
    "model = word2Vec.fit(wordsData)\n",
    "\n",
    "result = model.transform(wordsData)\n",
    "#result.show(truncate=False)\n",
    "# Save this huge object\n",
    "result.write.save(\"word2vec.parquet\")"
   ]
  },
  {
   "cell_type": "code",
   "execution_count": 3,
   "metadata": {},
   "outputs": [],
   "source": [
    "# Reload from the disc\n",
    "result = spark.read.load(\"word2vec.parquet\")"
   ]
  },
  {
   "cell_type": "code",
   "execution_count": 3,
   "metadata": {},
   "outputs": [
    {
     "name": "stdout",
     "output_type": "stream",
     "text": [
      "+--------------------+----------------+--------------------+--------------------+\n",
      "|       product_title|product_category|               words|            features|\n",
      "+--------------------+----------------+--------------------+--------------------+\n",
      "|DC Sports Muffler...|      Automotive|[dc, sports, muff...|[0.32148125022649...|\n",
      "|Thrush 17713 Turb...|      Automotive|[thrush, 17713, t...|[0.18454607890453...|\n",
      "|Max Reflector Jum...|      Automotive|[max, reflector, ...|[-0.0210069790482...|\n",
      "|40 Inch LED Light...|      Automotive|[40, inch, led, l...|[0.11790505796670...|\n",
      "|9 MOON Matt Multi...|      Automotive|[9, moon, matt, m...|[0.03611409006749...|\n",
      "|Rampage Jeep 7689...|      Automotive|[rampage, jeep, 7...|[-0.1092054396867...|\n",
      "|Ameritree Mazda C...|      Automotive|[ameritree, mazda...|[0.11809038201018...|\n",
      "|Dorman 425-176 In...|      Automotive|[dorman, 425-176,...|[0.47730810344219...|\n",
      "|Dupli-Color Ceram...|      Automotive|[dupli-color, cer...|[-0.1952677858727...|\n",
      "|4-1/2\" Dent Pulle...|      Automotive|[4-1/2\", dent, pu...|[-0.0239783152937...|\n",
      "|Deluxe Car Trash ...|      Automotive|[deluxe, car, tra...|[-0.1078484738744...|\n",
      "|Teal Awareness Ri...|      Automotive|[teal, awareness,...|[-0.1032706970969...|\n",
      "|KeylessOption Key...|      Automotive|[keylessoption, k...|[0.39356845955957...|\n",
      "|Emgo (84-68592) D...|      Automotive|[emgo, (84-68592)...|[0.13759921056528...|\n",
      "|High Road Heavy-D...|      Automotive|[high, road, heav...|[0.19976143891108...|\n",
      "|600 lb. Trailer D...|      Automotive|[600, lb., traile...|[0.19214872161255...|\n",
      "|Chemical Guys WAC...|      Automotive|[chemical, guys, ...|[-0.0741493362275...|\n",
      "|Scat Pack Version...|      Automotive|[scat, pack, vers...|[-0.1941055278293...|\n",
      "|DB Electrical AVA...|      Automotive|[db, electrical, ...|[0.33500537251432...|\n",
      "|Krator Honda CBR ...|      Automotive|[krator, honda, c...|[0.14564397638397...|\n",
      "+--------------------+----------------+--------------------+--------------------+\n",
      "only showing top 20 rows\n",
      "\n"
     ]
    }
   ],
   "source": [
    "result.show()"
   ]
  },
  {
   "cell_type": "code",
   "execution_count": 4,
   "metadata": {},
   "outputs": [
    {
     "data": {
      "text/plain": [
       "37172391"
      ]
     },
     "execution_count": 4,
     "metadata": {},
     "output_type": "execute_result"
    }
   ],
   "source": [
    "result.count()"
   ]
  },
  {
   "cell_type": "markdown",
   "metadata": {},
   "source": [
    "## Trains a k-means model"
   ]
  },
  {
   "cell_type": "code",
   "execution_count": 4,
   "metadata": {},
   "outputs": [],
   "source": [
    "kmeans = KMeans(featuresCol='features', k=12)\n",
    "model = kmeans.fit(result)"
   ]
  },
  {
   "cell_type": "markdown",
   "metadata": {},
   "source": [
    "## Evaluate clustering by computing Within Set Sum of Squared Errors"
   ]
  },
  {
   "cell_type": "code",
   "execution_count": 5,
   "metadata": {},
   "outputs": [
    {
     "name": "stdout",
     "output_type": "stream",
     "text": [
      "4398708.45345352\n",
      "Within Set Sum of Squared Errors = 4398708.45345352\n"
     ]
    }
   ],
   "source": [
    "wssse = model.summary.trainingCost\n",
    "print(wssse)\n",
    "print(\"Within Set Sum of Squared Errors = \" + str(wssse))"
   ]
  },
  {
   "cell_type": "markdown",
   "metadata": {},
   "source": [
    "## Shows the center of each cluster"
   ]
  },
  {
   "cell_type": "code",
   "execution_count": 6,
   "metadata": {},
   "outputs": [
    {
     "name": "stdout",
     "output_type": "stream",
     "text": [
      "Cluster Centers: \n",
      "[-0.32765864  0.74853989 -0.39707047]\n",
      "[0.54868088 0.48256734 0.71603177]\n",
      "[0.40245698 0.10310091 0.06635891]\n",
      "[-0.12326375 -0.05573605 -0.19242188]\n",
      "[ 0.36637293 -0.07801183 -0.55128742]\n",
      "[-0.43530421  0.04072187  0.22672879]\n",
      "[-0.29452914  0.39293028 -0.18468668]\n",
      "[-0.20184139  0.33606862 -0.68807266]\n",
      "[ 0.97958788 -0.16640928  0.18653521]\n",
      "[-0.31947199 -0.30975264 -0.45372551]\n",
      "[-0.45849956  0.68213419  0.25643467]\n",
      "[ 0.20469939 -0.67662189 -0.17404804]\n"
     ]
    }
   ],
   "source": [
    "centers = model.clusterCenters()\n",
    "print(\"Cluster Centers: \")\n",
    "for center in centers:\n",
    "    print(center)"
   ]
  },
  {
   "cell_type": "markdown",
   "metadata": {},
   "source": [
    "## Get the clustering prediction"
   ]
  },
  {
   "cell_type": "code",
   "execution_count": 7,
   "metadata": {},
   "outputs": [
    {
     "name": "stdout",
     "output_type": "stream",
     "text": [
      "+----------+\n",
      "|prediction|\n",
      "+----------+\n",
      "|        11|\n",
      "|        11|\n",
      "|         3|\n",
      "|         2|\n",
      "|         3|\n",
      "|         3|\n",
      "|        11|\n",
      "|        11|\n",
      "|         3|\n",
      "|         3|\n",
      "|         3|\n",
      "|         9|\n",
      "|        11|\n",
      "|        11|\n",
      "|         4|\n",
      "|         3|\n",
      "|         3|\n",
      "|         6|\n",
      "|        11|\n",
      "|        11|\n",
      "+----------+\n",
      "only showing top 20 rows\n",
      "\n"
     ]
    }
   ],
   "source": [
    "pred = model.transform(result).select('prediction')\n",
    "pred.show()"
   ]
  },
  {
   "cell_type": "code",
   "execution_count": 7,
   "metadata": {},
   "outputs": [
    {
     "data": {
      "text/plain": [
       "37172391"
      ]
     },
     "execution_count": 7,
     "metadata": {},
     "output_type": "execute_result"
    }
   ],
   "source": [
    "pred.count()"
   ]
  },
  {
   "cell_type": "markdown",
   "metadata": {},
   "source": [
    "## Calculate the clustering error within each group"
   ]
  },
  {
   "cell_type": "code",
   "execution_count": 12,
   "metadata": {},
   "outputs": [],
   "source": [
    "df1 = result.withColumn(\"id1\", monotonically_increasing_id() )\n",
    "df2 = pred.withColumn(\"id2\", monotonically_increasing_id() )\n",
    "\n",
    "df = df1.join(df2, df1.id1 == df2.id2, how='inner')\n",
    "# Save the merged cluster into Hadoop disc\n",
    "df.write.save(\"cluster.parquet\")\n",
    "#df.show()"
   ]
  },
  {
   "cell_type": "code",
   "execution_count": 2,
   "metadata": {},
   "outputs": [],
   "source": [
    "# Reload from the disc\n",
    "df = spark.read.load(\"cluster.parquet\")"
   ]
  },
  {
   "cell_type": "code",
   "execution_count": 3,
   "metadata": {},
   "outputs": [
    {
     "name": "stdout",
     "output_type": "stream",
     "text": [
      "+--------------------+----------+-------+\n",
      "|    product_category|prediction|  count|\n",
      "+--------------------+----------+-------+\n",
      "|               Books|         3| 125667|\n",
      "|                Baby|         5| 211694|\n",
      "|             Apparel|         6| 459202|\n",
      "|             Apparel|        11| 133057|\n",
      "|              Camera|         3| 164032|\n",
      "|              Beauty|         8|    141|\n",
      "|              Sports|         9| 923045|\n",
      "|Personal_Care_App...|         5|  17327|\n",
      "|              Camera|         8| 302538|\n",
      "|           Furniture|        11|  38229|\n",
      "|          Automotive|         1|    897|\n",
      "|           Furniture|         8|    264|\n",
      "|              Beauty|         3| 256088|\n",
      "|           Furniture|         2|   7821|\n",
      "|               Music|         6|1544974|\n",
      "|             Apparel|         0|   6511|\n",
      "|          Automotive|         7|  41123|\n",
      "|          Automotive|         6|  40291|\n",
      "|Personal_Care_App...|         2|   8240|\n",
      "|          Automotive|        11|1782192|\n",
      "+--------------------+----------+-------+\n",
      "only showing top 20 rows\n",
      "\n"
     ]
    }
   ],
   "source": [
    "count_df = df.groupBy('product_category', 'prediction').count()\n",
    "count_df.show()"
   ]
  },
  {
   "cell_type": "code",
   "execution_count": 4,
   "metadata": {},
   "outputs": [
    {
     "name": "stdout",
     "output_type": "stream",
     "text": [
      "+------------------------+----------+-------+\n",
      "|product_category        |prediction|count  |\n",
      "+------------------------+----------+-------+\n",
      "|Apparel                 |0         |6511   |\n",
      "|Apparel                 |1         |27     |\n",
      "|Apparel                 |2         |6138   |\n",
      "|Apparel                 |3         |1796500|\n",
      "|Apparel                 |4         |73920  |\n",
      "|Apparel                 |5         |286827 |\n",
      "|Apparel                 |6         |459202 |\n",
      "|Apparel                 |7         |281188 |\n",
      "|Apparel                 |8         |234    |\n",
      "|Apparel                 |9         |2859932|\n",
      "|Apparel                 |10        |2786   |\n",
      "|Apparel                 |11        |133057 |\n",
      "|Automotive              |0         |502    |\n",
      "|Automotive              |1         |897    |\n",
      "|Automotive              |2         |298749 |\n",
      "|Automotive              |3         |786269 |\n",
      "|Automotive              |4         |165832 |\n",
      "|Automotive              |5         |72668  |\n",
      "|Automotive              |6         |40291  |\n",
      "|Automotive              |7         |41123  |\n",
      "|Automotive              |8         |173217 |\n",
      "|Automotive              |9         |148448 |\n",
      "|Automotive              |10        |4521   |\n",
      "|Automotive              |11        |1782192|\n",
      "|Baby                    |0         |3096   |\n",
      "|Baby                    |1         |1418   |\n",
      "|Baby                    |2         |180270 |\n",
      "|Baby                    |3         |521556 |\n",
      "|Baby                    |4         |41674  |\n",
      "|Baby                    |5         |211694 |\n",
      "|Baby                    |6         |235583 |\n",
      "|Baby                    |7         |57348  |\n",
      "|Baby                    |8         |24078  |\n",
      "|Baby                    |9         |282133 |\n",
      "|Baby                    |10        |20607  |\n",
      "|Baby                    |11        |173475 |\n",
      "|Beauty                  |0         |228731 |\n",
      "|Beauty                  |1         |85905  |\n",
      "|Beauty                  |2         |32017  |\n",
      "|Beauty                  |3         |256088 |\n",
      "|Beauty                  |4         |3463   |\n",
      "|Beauty                  |5         |1570849|\n",
      "|Beauty                  |6         |572437 |\n",
      "|Beauty                  |7         |7997   |\n",
      "|Beauty                  |8         |141    |\n",
      "|Beauty                  |9         |36967  |\n",
      "|Beauty                  |10        |2316860|\n",
      "|Beauty                  |11        |3997   |\n",
      "|Books                   |0         |1178054|\n",
      "|Books                   |1         |312    |\n",
      "|Books                   |2         |19088  |\n",
      "|Books                   |3         |125667 |\n",
      "|Books                   |4         |52548  |\n",
      "|Books                   |5         |16324  |\n",
      "|Books                   |6         |995039 |\n",
      "|Books                   |7         |646768 |\n",
      "|Books                   |8         |1373   |\n",
      "|Books                   |9         |16479  |\n",
      "|Books                   |10        |46864  |\n",
      "|Books                   |11        |6999   |\n",
      "|Camera                  |0         |2083   |\n",
      "|Camera                  |1         |122770 |\n",
      "|Camera                  |2         |1049634|\n",
      "|Camera                  |3         |164032 |\n",
      "|Camera                  |4         |74104  |\n",
      "|Camera                  |5         |17301  |\n",
      "|Camera                  |6         |47677  |\n",
      "|Camera                  |7         |6600   |\n",
      "|Camera                  |8         |302538 |\n",
      "|Camera                  |9         |396    |\n",
      "|Camera                  |10        |2475   |\n",
      "|Camera                  |11        |12362  |\n",
      "|Electronics             |0         |18596  |\n",
      "|Electronics             |1         |375144 |\n",
      "|Electronics             |2         |1565742|\n",
      "|Electronics             |3         |155945 |\n",
      "|Electronics             |4         |121162 |\n",
      "|Electronics             |5         |21870  |\n",
      "|Electronics             |6         |21359  |\n",
      "|Electronics             |7         |8609   |\n",
      "|Electronics             |8         |768768 |\n",
      "|Electronics             |9         |992    |\n",
      "|Electronics             |10        |2152   |\n",
      "|Electronics             |11        |33522  |\n",
      "|Furniture               |0         |1489   |\n",
      "|Furniture               |1         |22     |\n",
      "|Furniture               |2         |7821   |\n",
      "|Furniture               |3         |386240 |\n",
      "|Furniture               |4         |145314 |\n",
      "|Furniture               |5         |12779  |\n",
      "|Furniture               |6         |51931  |\n",
      "|Furniture               |7         |67157  |\n",
      "|Furniture               |8         |264    |\n",
      "|Furniture               |9         |80121  |\n",
      "|Furniture               |10        |746    |\n",
      "|Furniture               |11        |38229  |\n",
      "|Grocery                 |0         |846514 |\n",
      "|Grocery                 |1         |139    |\n",
      "|Grocery                 |2         |1811   |\n",
      "|Grocery                 |3         |38670  |\n",
      "|Grocery                 |4         |3815   |\n",
      "|Grocery                 |5         |9088   |\n",
      "|Grocery                 |6         |775994 |\n",
      "|Grocery                 |7         |187666 |\n",
      "|Grocery                 |8         |71     |\n",
      "|Grocery                 |9         |24727  |\n",
      "|Grocery                 |10        |513860 |\n",
      "|Grocery                 |11        |76     |\n",
      "|Music                   |0         |1035501|\n",
      "|Music                   |1         |1464   |\n",
      "|Music                   |2         |48795  |\n",
      "|Music                   |3         |421781 |\n",
      "|Music                   |4         |132233 |\n",
      "|Music                   |5         |99151  |\n",
      "|Music                   |6         |1544974|\n",
      "|Music                   |7         |1143085|\n",
      "|Music                   |8         |5816   |\n",
      "|Music                   |9         |107939 |\n",
      "|Music                   |10        |175117 |\n",
      "|Music                   |11        |35684  |\n",
      "|Personal_Care_Appliances|0         |394    |\n",
      "|Personal_Care_Appliances|1         |1038   |\n",
      "|Personal_Care_Appliances|2         |8240   |\n",
      "|Personal_Care_Appliances|3         |22766  |\n",
      "|Personal_Care_Appliances|4         |5346   |\n",
      "|Personal_Care_Appliances|5         |17327  |\n",
      "|Personal_Care_Appliances|6         |11487  |\n",
      "|Personal_Care_Appliances|7         |589    |\n",
      "|Personal_Care_Appliances|8         |2290   |\n",
      "|Personal_Care_Appliances|9         |980    |\n",
      "|Personal_Care_Appliances|10        |13473  |\n",
      "|Personal_Care_Appliances|11        |2051   |\n",
      "|Sports                  |0         |2779   |\n",
      "|Sports                  |1         |1334   |\n",
      "|Sports                  |2         |176029 |\n",
      "|Sports                  |3         |1463852|\n",
      "|Sports                  |4         |1501059|\n",
      "|Sports                  |5         |55573  |\n",
      "|Sports                  |6         |125375 |\n",
      "|Sports                  |7         |234423 |\n",
      "|Sports                  |8         |32690  |\n",
      "|Sports                  |9         |923045 |\n",
      "|Sports                  |10        |6707   |\n",
      "|Sports                  |11        |326697 |\n",
      "+------------------------+----------+-------+\n",
      "\n"
     ]
    }
   ],
   "source": [
    "sort_count_df = count_df.sort(['product_category', 'prediction'])\n",
    "sort_count_df.show(sort_count_df.count(), False)"
   ]
  },
  {
   "cell_type": "code",
   "execution_count": 13,
   "metadata": {},
   "outputs": [],
   "source": [
    "max_count = sort_count_df.groupBy('product_category').max('count')\n",
    "mc=max_count.withColumnRenamed('max(count)', 'max_c')\n",
    "mc.join(sort_count_df, mc.max_c == sort_count_df.count, 'inner').show()"
   ]
  },
  {
   "cell_type": "code",
   "execution_count": 20,
   "metadata": {},
   "outputs": [
    {
     "name": "stdout",
     "output_type": "stream",
     "text": [
      "+--------------------+-------+\n",
      "|    product_category|  max_c|\n",
      "+--------------------+-------+\n",
      "|              Sports|1501059|\n",
      "|                Baby| 521556|\n",
      "|             Apparel|2859932|\n",
      "|             Grocery| 846514|\n",
      "|         Electronics|1565742|\n",
      "|          Automotive|1782192|\n",
      "|               Books|1178054|\n",
      "|               Music|1544974|\n",
      "|           Furniture| 386240|\n",
      "|Personal_Care_App...|  22766|\n",
      "|              Camera|1049634|\n",
      "|              Beauty|2316860|\n",
      "+--------------------+-------+\n",
      "\n"
     ]
    }
   ],
   "source": [
    "mc.show()"
   ]
  },
  {
   "cell_type": "code",
   "execution_count": 22,
   "metadata": {},
   "outputs": [
    {
     "name": "stdout",
     "output_type": "stream",
     "text": [
      "+--------------------+-------+--------------------+----------+-------+\n",
      "|    product_category|  max_c|    product_category|prediction|  count|\n",
      "+--------------------+-------+--------------------+----------+-------+\n",
      "|                Baby| 521556|                Baby|         3| 521556|\n",
      "|              Sports|1501059|              Sports|         4|1501059|\n",
      "|               Books|1178054|               Books|         0|1178054|\n",
      "|              Camera|1049634|              Camera|         2|1049634|\n",
      "|               Music|1544974|               Music|         6|1544974|\n",
      "|Personal_Care_App...|  22766|Personal_Care_App...|         3|  22766|\n",
      "|              Beauty|2316860|              Beauty|        10|2316860|\n",
      "|         Electronics|1565742|         Electronics|         2|1565742|\n",
      "|             Apparel|2859932|             Apparel|         9|2859932|\n",
      "|          Automotive|1782192|          Automotive|        11|1782192|\n",
      "|           Furniture| 386240|           Furniture|         3| 386240|\n",
      "|             Grocery| 846514|             Grocery|         0| 846514|\n",
      "+--------------------+-------+--------------------+----------+-------+\n",
      "\n"
     ]
    }
   ],
   "source": [
    "mc.join(sort_count_df, col('max_c') == col('count')).show()"
   ]
  },
  {
   "cell_type": "code",
   "execution_count": null,
   "metadata": {},
   "outputs": [],
   "source": []
  }
 ],
 "metadata": {
  "kernelspec": {
   "display_name": "Python 3",
   "language": "python",
   "name": "python3"
  },
  "language_info": {
   "codemirror_mode": {
    "name": "ipython",
    "version": 3
   },
   "file_extension": ".py",
   "mimetype": "text/x-python",
   "name": "python",
   "nbconvert_exporter": "python",
   "pygments_lexer": "ipython3",
   "version": "3.7.4"
  }
 },
 "nbformat": 4,
 "nbformat_minor": 4
}
