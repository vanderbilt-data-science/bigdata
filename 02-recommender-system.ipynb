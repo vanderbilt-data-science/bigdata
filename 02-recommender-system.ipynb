{
 "cells": [
  {
   "cell_type": "markdown",
   "metadata": {},
   "source": [
    "# Recommender System"
   ]
  },
  {
   "cell_type": "code",
   "execution_count": 1,
   "metadata": {},
   "outputs": [],
   "source": [
    "import pandas as pd\n",
    "import matplotlib.pyplot as plt"
   ]
  },
  {
   "cell_type": "code",
   "execution_count": 2,
   "metadata": {},
   "outputs": [],
   "source": [
    "from pyspark.sql import SparkSession\n",
    "from pyspark.sql.functions import *\n",
    "from pyspark.sql.types import StructType, StructField, StringType, IntegerType, TimestampType\n",
    "from pyspark.ml.evaluation import RegressionEvaluator\n",
    "from pyspark.ml.recommendation import ALS\n",
    "from pyspark.ml.feature import StringIndexer\n",
    "\n",
    "spark = SparkSession.builder.appName('red').getOrCreate()"
   ]
  },
  {
   "cell_type": "markdown",
   "metadata": {},
   "source": [
    "## Read in 12 Dataset of 21.78GB"
   ]
  },
  {
   "cell_type": "code",
   "execution_count": 3,
   "metadata": {},
   "outputs": [],
   "source": [
    "schema = StructType([ \\\n",
    "    StructField(\"marketplace\",       StringType(),    True), \\\n",
    "    StructField(\"customer_id\",       StringType(),    True), \\\n",
    "    StructField(\"review_id\",         StringType(),    True), \\\n",
    "    StructField(\"product_id\",        StringType(),    True), \\\n",
    "    StructField(\"product_parent\",    StringType(),    True), \\\n",
    "    StructField(\"product_title\",     StringType(),    True), \\\n",
    "    StructField(\"product_category\",  StringType(),    True), \\\n",
    "    StructField(\"star_rating\",       IntegerType(),   True), \\\n",
    "    StructField(\"helpful_votes\",     IntegerType(),   True), \\\n",
    "    StructField(\"total_votes\",       IntegerType(),   True), \\\n",
    "    StructField(\"vine\",              StringType(),    True), \\\n",
    "    StructField(\"verified_purchase\", StringType(),    True), \\\n",
    "    StructField(\"review_headline\",   StringType(),    True), \\\n",
    "    StructField(\"review_body\",       StringType(),    True), \\\n",
    "    StructField(\"review_date\",       TimestampType(), True), \\\n",
    "  ])\n",
    "\n",
    "path = ['archive/amazon_reviews_us_Apparel_v1_00.tsv',\n",
    "        'archive/amazon_reviews_us_Automotive_v1_00.tsv',\n",
    "        'archive/amazon_reviews_us_Baby_v1_00.tsv',\n",
    "        'archive/amazon_reviews_us_Beauty_v1_00.tsv',\n",
    "        'archive/amazon_reviews_us_Books_v1_02.tsv',\n",
    "        'archive/amazon_reviews_us_Camera_v1_00.tsv',\n",
    "        'archive/amazon_reviews_us_Electronics_v1_00.tsv',\n",
    "        'archive/amazon_reviews_us_Furniture_v1_00.tsv',\n",
    "        'archive/amazon_reviews_us_Sports_v1_00.tsv',\n",
    "        'archive/amazon_reviews_us_Grocery_v1_00.tsv',\n",
    "        'archive/amazon_reviews_us_Personal_Care_Appliances_v1_00.tsv',\n",
    "        'archive/amazon_reviews_us_Music_v1_00.tsv']\n",
    "\n",
    "data = spark.read.csv(path, schema=schema, header=True, sep='\\t', mode='DROPMALFORMED')"
   ]
  },
  {
   "cell_type": "markdown",
   "metadata": {},
   "source": [
    "## Filter out non-product records in product_category column"
   ]
  },
  {
   "cell_type": "code",
   "execution_count": 4,
   "metadata": {},
   "outputs": [],
   "source": [
    "product_category = ['Sports', 'Baby', 'Apparel', 'Grocery', 'Electronics', 'Automotive', 'Books', 'Music', 'Furniture', 'Personal_Care_Appliances', 'Camera', 'Beauty']\n",
    "data_filter = data.filter(data.product_category.isin(product_category))"
   ]
  },
  {
   "cell_type": "code",
   "execution_count": 5,
   "metadata": {},
   "outputs": [
    {
     "data": {
      "text/plain": [
       "37172391"
      ]
     },
     "execution_count": 5,
     "metadata": {},
     "output_type": "execute_result"
    }
   ],
   "source": [
    "# After filtering out, how many recoreds remaining\n",
    "data_filter.count()"
   ]
  },
  {
   "cell_type": "markdown",
   "metadata": {},
   "source": [
    "## Find out top 20 customers posting the most reviews"
   ]
  },
  {
   "cell_type": "code",
   "execution_count": 6,
   "metadata": {},
   "outputs": [],
   "source": [
    "customer_count = data_filter.groupBy('customer_id').count()\n",
    "top20 = customer_count.sort(col('count').desc()).head(20)\n",
    "top20_l = list(map(lambda x : x[0], top20))"
   ]
  },
  {
   "cell_type": "code",
   "execution_count": 7,
   "metadata": {},
   "outputs": [
    {
     "data": {
      "text/plain": [
       "['50122160',\n",
       " '50732546',\n",
       " '50736950',\n",
       " '38214553',\n",
       " '51184997',\n",
       " '18116317',\n",
       " '23267387',\n",
       " '50345651',\n",
       " '52496677',\n",
       " '14539589',\n",
       " '15725862',\n",
       " '50913245',\n",
       " '50881246',\n",
       " '20018062',\n",
       " '22073263',\n",
       " '52615377',\n",
       " '19380211',\n",
       " '51381678',\n",
       " '37455882',\n",
       " '50441674']"
      ]
     },
     "execution_count": 7,
     "metadata": {},
     "output_type": "execute_result"
    }
   ],
   "source": [
    "top20_l"
   ]
  },
  {
   "cell_type": "markdown",
   "metadata": {},
   "source": [
    "## Calculate each customer's the average rating of each product category"
   ]
  },
  {
   "cell_type": "code",
   "execution_count": 8,
   "metadata": {},
   "outputs": [
    {
     "name": "stdout",
     "output_type": "stream",
     "text": [
      "+-----------+----------------+-----------------+\n",
      "|customer_id|product_category| avg(star_rating)|\n",
      "+-----------+----------------+-----------------+\n",
      "|   23267387|           Books|              5.0|\n",
      "|   23267387|          Beauty|              4.0|\n",
      "|   38214553|          Sports|              4.0|\n",
      "|   50913245|      Automotive|3.923076923076923|\n",
      "|   18116317|         Grocery|4.309523809523809|\n",
      "|   50345651|           Books|4.886363636363637|\n",
      "|   22073263|       Furniture|              4.8|\n",
      "|   22073263|          Sports|              5.0|\n",
      "|   22073263|          Beauty|4.841269841269841|\n",
      "|   50736950|     Electronics|              5.0|\n",
      "|   23267387|      Automotive|              4.5|\n",
      "|   52496677|         Apparel|              5.0|\n",
      "|   14539589|           Music|4.989986187845304|\n",
      "|   50913245|       Furniture|              4.0|\n",
      "|   15725862|           Music|4.750527797325827|\n",
      "|   50441674|          Beauty|              2.5|\n",
      "|   20018062|          Beauty|              5.0|\n",
      "|   52496677|          Sports|4.923076923076923|\n",
      "|   18116317|           Music| 4.10871624822359|\n",
      "|   52615377|          Beauty|              3.0|\n",
      "+-----------+----------------+-----------------+\n",
      "only showing top 20 rows\n",
      "\n"
     ]
    }
   ],
   "source": [
    "avg_c_p = data_filter.filter(data_filter.customer_id.isin(top20_l)).groupBy('customer_id', 'product_category').mean('star_rating')\n",
    "avg_c_p.show()"
   ]
  },
  {
   "cell_type": "code",
   "execution_count": 9,
   "metadata": {},
   "outputs": [
    {
     "data": {
      "text/plain": [
       "109"
      ]
     },
     "execution_count": 9,
     "metadata": {},
     "output_type": "execute_result"
    }
   ],
   "source": [
    "avg_c_p.count()"
   ]
  },
  {
   "cell_type": "markdown",
   "metadata": {},
   "source": [
    "## Convert string type to numeric type and Split data into training and test"
   ]
  },
  {
   "cell_type": "code",
   "execution_count": 10,
   "metadata": {},
   "outputs": [],
   "source": [
    "avg_c_p = avg_c_p.withColumn(\"customer_id\", avg_c_p[\"customer_id\"].cast(IntegerType()))\n",
    "indexer = StringIndexer(inputCol=\"product_category\", outputCol=\"product_id\")\n",
    "cus_prod = indexer.fit(avg_c_p).transform(avg_c_p)"
   ]
  },
  {
   "cell_type": "markdown",
   "metadata": {},
   "source": [
    "### Retrieve the mapping between index and product category"
   ]
  },
  {
   "cell_type": "code",
   "execution_count": 22,
   "metadata": {},
   "outputs": [
    {
     "data": {
      "text/plain": [
       "['Music',\n",
       " 'Books',\n",
       " 'Electronics',\n",
       " 'Sports',\n",
       " 'Grocery',\n",
       " 'Beauty',\n",
       " 'Camera',\n",
       " 'Apparel',\n",
       " 'Automotive',\n",
       " 'Furniture',\n",
       " 'Baby',\n",
       " 'Personal_Care_Appliances']"
      ]
     },
     "execution_count": 22,
     "metadata": {},
     "output_type": "execute_result"
    }
   ],
   "source": [
    "indexer.fit(avg_c_p).labels"
   ]
  },
  {
   "cell_type": "markdown",
   "metadata": {},
   "source": [
    "### Split the data into training and test"
   ]
  },
  {
   "cell_type": "code",
   "execution_count": 11,
   "metadata": {},
   "outputs": [],
   "source": [
    "(training, test) = cus_prod.randomSplit([0.8, 0.2])"
   ]
  },
  {
   "cell_type": "code",
   "execution_count": 12,
   "metadata": {},
   "outputs": [
    {
     "name": "stdout",
     "output_type": "stream",
     "text": [
      "+-----------+--------------------+-----------------+----------+\n",
      "|customer_id|    product_category| avg(star_rating)|product_id|\n",
      "+-----------+--------------------+-----------------+----------+\n",
      "|   23267387|               Books|              5.0|       1.0|\n",
      "|   23267387|              Beauty|              4.0|       5.0|\n",
      "|   18116317|             Grocery|4.309523809523809|       4.0|\n",
      "|   22073263|           Furniture|              4.8|       9.0|\n",
      "|   22073263|              Sports|              5.0|       3.0|\n",
      "|   50345651|               Books|4.886363636363637|       1.0|\n",
      "|   22073263|              Beauty|4.841269841269841|       5.0|\n",
      "|   50736950|         Electronics|              5.0|       2.0|\n",
      "|   14539589|               Music|4.989986187845304|       0.0|\n",
      "|   52496677|             Apparel|              5.0|       7.0|\n",
      "|   50913245|           Furniture|              4.0|       9.0|\n",
      "|   15725862|               Music|4.750527797325827|       0.0|\n",
      "|   50441674|              Beauty|              2.5|       5.0|\n",
      "|   20018062|              Beauty|              5.0|       5.0|\n",
      "|   52496677|              Sports|4.923076923076923|       3.0|\n",
      "|   18116317|               Music| 4.10871624822359|       0.0|\n",
      "|   52615377|              Beauty|              3.0|       5.0|\n",
      "|   50913245|              Sports|4.376623376623376|       3.0|\n",
      "|   22073263|Personal_Care_App...|4.666666666666667|      11.0|\n",
      "|   15725862|              Camera|3.142857142857143|       6.0|\n",
      "+-----------+--------------------+-----------------+----------+\n",
      "only showing top 20 rows\n",
      "\n"
     ]
    }
   ],
   "source": [
    "training.show()"
   ]
  },
  {
   "cell_type": "markdown",
   "metadata": {},
   "source": [
    "## Build the recommendation model using ALS on the training data"
   ]
  },
  {
   "cell_type": "code",
   "execution_count": 13,
   "metadata": {},
   "outputs": [],
   "source": [
    "als = ALS(maxIter=5, regParam=0.01, userCol=\"customer_id\", itemCol=\"product_id\", ratingCol=\"avg(star_rating)\")\n",
    "model = als.fit(training)"
   ]
  },
  {
   "cell_type": "markdown",
   "metadata": {},
   "source": [
    "## Evaluate the model by computing the RMSE on the test data"
   ]
  },
  {
   "cell_type": "code",
   "execution_count": 18,
   "metadata": {},
   "outputs": [
    {
     "name": "stdout",
     "output_type": "stream",
     "text": [
      "+-----------+----------------+-----------------+----------+----------+\n",
      "|customer_id|product_category| avg(star_rating)|product_id|prediction|\n",
      "+-----------+----------------+-----------------+----------+----------+\n",
      "|   50122160|           Books|4.997992883860961|       1.0|  4.687139|\n",
      "|   51184997|           Books|              5.0|       1.0|  3.203855|\n",
      "|   50881246|           Books|3.958036421219319|       1.0| 5.5383763|\n",
      "|   20018062|           Books|4.964788732394366|       1.0| 4.7496414|\n",
      "|   22073263|           Books|              4.0|       1.0|   2.48031|\n",
      "|   50881246|          Camera|              4.0|       6.0| 2.4901977|\n",
      "|   18116317|          Camera|              5.0|       6.0| 3.2218025|\n",
      "|   23267387|          Camera|4.833333333333333|       6.0| 1.9963455|\n",
      "|   23267387|          Sports|              5.0|       3.0| 3.7034066|\n",
      "|   38214553|          Sports|              4.0|       3.0| 3.3653195|\n",
      "|   50736950|          Beauty|             4.95|       5.0|  4.606846|\n",
      "|   50441674|         Grocery|            4.375|       4.0| 3.9000046|\n",
      "|   52615377|         Grocery|              4.0|       4.0| 3.5931022|\n",
      "|   50913245|         Grocery|              4.9|       4.0| 4.5265403|\n",
      "|   51381678|         Grocery|              3.0|       4.0|  3.319924|\n",
      "|   23267387|      Automotive|              4.5|       8.0| 3.3901978|\n",
      "|   50913245|      Automotive|3.923076923076923|       8.0|  4.046117|\n",
      "|   18116317|         Apparel|              5.0|       7.0| 3.9461944|\n",
      "|   52496677|     Electronics|4.964285714285714|       2.0|  4.047081|\n",
      "|   50345651|     Electronics|             4.25|       2.0|  5.206237|\n",
      "+-----------+----------------+-----------------+----------+----------+\n",
      "only showing top 20 rows\n",
      "\n",
      "Root-mean-square error = 2.7508469558718445\n"
     ]
    }
   ],
   "source": [
    "predictions = model.transform(test)\n",
    "predictions = predictions.dropna()\n",
    "predictions.show()\n",
    "evaluator = RegressionEvaluator(metricName=\"rmse\", labelCol=\"product_id\",predictionCol=\"prediction\")\n",
    "rmse = evaluator.evaluate(predictions)\n",
    "print(\"Root-mean-square error = \" + str(rmse))"
   ]
  },
  {
   "cell_type": "code",
   "execution_count": 19,
   "metadata": {},
   "outputs": [
    {
     "name": "stdout",
     "output_type": "stream",
     "text": [
      "+-----------+-------------------------------------------------+\n",
      "|customer_id|recommendations                                  |\n",
      "+-----------+-------------------------------------------------+\n",
      "|52496677   |[[7, 5.0227623], [4, 5.0160265], [10, 5.00542]]  |\n",
      "|51184997   |[[0, 4.144959], [2, 3.8595881], [4, 3.5448449]]  |\n",
      "|52615377   |[[1, 4.466326], [4, 3.5931022], [7, 3.2025504]]  |\n",
      "|18116317   |[[10, 4.9862623], [9, 4.4411407], [2, 4.3707666]]|\n",
      "|14539589   |[[2, 5.009161], [5, 5.003492], [9, 4.980434]]    |\n",
      "|20018062   |[[2, 5.0005], [5, 4.9974456], [4, 4.9720297]]    |\n",
      "|50732546   |[[1, 4.683359], [4, 4.1587687], [2, 3.8515213]]  |\n",
      "|37455882   |[[0, 4.062229], [2, 3.442569], [4, 2.8250575]]   |\n",
      "|50345651   |[[2, 5.206237], [4, 5.006421], [3, 4.994061]]    |\n",
      "|50736950   |[[7, 5.0055695], [3, 4.98691], [2, 4.9804196]]   |\n",
      "|50441674   |[[8, 4.982744], [2, 4.73892], [3, 4.665714]]     |\n",
      "|38214553   |[[0, 4.131078], [2, 3.8466623], [4, 3.5329733]]  |\n",
      "|51381678   |[[0, 3.8819609], [2, 3.6146975], [4, 3.319924]]  |\n",
      "|50122160   |[[2, 5.099251], [4, 5.071805], [0, 4.999204]]    |\n",
      "|50913245   |[[2, 4.972836], [5, 4.9727716], [1, 4.5436363]]  |\n",
      "|15725862   |[[2, 4.991401], [0, 4.7520833], [3, 4.3745465]]  |\n",
      "|23267387   |[[1, 4.9891214], [2, 4.6625457], [4, 4.1602674]] |\n",
      "|22073263   |[[3, 4.979202], [8, 4.86804], [5, 4.8397675]]    |\n",
      "|19380211   |[[0, 2.9989786], [2, 2.7925062], [4, 2.5647814]] |\n",
      "|50881246   |[[1, 5.5383763], [4, 4.979792], [5, 4.527406]]   |\n",
      "+-----------+-------------------------------------------------+\n",
      "\n"
     ]
    }
   ],
   "source": [
    "K = 3\n",
    "userRecs = model.recommendForAllUsers(K)\n",
    "userRecs.show(userRecs.count(), False)"
   ]
  },
  {
   "cell_type": "code",
   "execution_count": null,
   "metadata": {},
   "outputs": [],
   "source": []
  }
 ],
 "metadata": {
  "kernelspec": {
   "display_name": "Python 3",
   "language": "python",
   "name": "python3"
  },
  "language_info": {
   "codemirror_mode": {
    "name": "ipython",
    "version": 3
   },
   "file_extension": ".py",
   "mimetype": "text/x-python",
   "name": "python",
   "nbconvert_exporter": "python",
   "pygments_lexer": "ipython3",
   "version": "3.7.4"
  }
 },
 "nbformat": 4,
 "nbformat_minor": 4
}
