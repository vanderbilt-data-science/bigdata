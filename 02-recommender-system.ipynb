{
 "cells": [
  {
   "cell_type": "markdown",
   "metadata": {},
   "source": [
    "# Recommender System"
   ]
  },
  {
   "cell_type": "code",
   "execution_count": 1,
   "metadata": {},
   "outputs": [],
   "source": [
    "import pandas as pd\n",
    "import matplotlib.pyplot as plt"
   ]
  },
  {
   "cell_type": "code",
   "execution_count": 2,
   "metadata": {},
   "outputs": [],
   "source": [
    "from pyspark.sql import SparkSession\n",
    "from pyspark.sql.functions import *\n",
    "from pyspark.sql.types import StructType, StructField, StringType, IntegerType, TimestampType\n",
    "from pyspark.ml.evaluation import RegressionEvaluator\n",
    "from pyspark.ml.recommendation import ALS\n",
    "from pyspark.ml.feature import StringIndexer\n",
    "\n",
    "spark = SparkSession.builder.appName('red').getOrCreate()"
   ]
  },
  {
   "cell_type": "markdown",
   "metadata": {},
   "source": [
    "## Read in 12 Dataset of 21.78GB"
   ]
  },
  {
   "cell_type": "code",
   "execution_count": 3,
   "metadata": {},
   "outputs": [],
   "source": [
    "schema = StructType([ \\\n",
    "    StructField(\"marketplace\",       StringType(),    True), \\\n",
    "    StructField(\"customer_id\",       StringType(),    True), \\\n",
    "    StructField(\"review_id\",         StringType(),    True), \\\n",
    "    StructField(\"product_id\",        StringType(),    True), \\\n",
    "    StructField(\"product_parent\",    StringType(),    True), \\\n",
    "    StructField(\"product_title\",     StringType(),    True), \\\n",
    "    StructField(\"product_category\",  StringType(),    True), \\\n",
    "    StructField(\"star_rating\",       IntegerType(),   True), \\\n",
    "    StructField(\"helpful_votes\",     IntegerType(),   True), \\\n",
    "    StructField(\"total_votes\",       IntegerType(),   True), \\\n",
    "    StructField(\"vine\",              StringType(),    True), \\\n",
    "    StructField(\"verified_purchase\", StringType(),    True), \\\n",
    "    StructField(\"review_headline\",   StringType(),    True), \\\n",
    "    StructField(\"review_body\",       StringType(),    True), \\\n",
    "    StructField(\"review_date\",       TimestampType(), True), \\\n",
    "  ])\n",
    "\n",
    "path = ['archive/amazon_reviews_us_Apparel_v1_00.tsv',\n",
    "        'archive/amazon_reviews_us_Automotive_v1_00.tsv',\n",
    "        'archive/amazon_reviews_us_Baby_v1_00.tsv',\n",
    "        'archive/amazon_reviews_us_Beauty_v1_00.tsv',\n",
    "        'archive/amazon_reviews_us_Books_v1_02.tsv',\n",
    "        'archive/amazon_reviews_us_Camera_v1_00.tsv',\n",
    "        'archive/amazon_reviews_us_Electronics_v1_00.tsv',\n",
    "        'archive/amazon_reviews_us_Furniture_v1_00.tsv',\n",
    "        'archive/amazon_reviews_us_Sports_v1_00.tsv',\n",
    "        'archive/amazon_reviews_us_Grocery_v1_00.tsv',\n",
    "        'archive/amazon_reviews_us_Personal_Care_Appliances_v1_00.tsv',\n",
    "        'archive/amazon_reviews_us_Music_v1_00.tsv']\n",
    "\n",
    "data = spark.read.csv(path, schema=schema, header=True, sep='\\t', mode='DROPMALFORMED')"
   ]
  },
  {
   "cell_type": "markdown",
   "metadata": {},
   "source": [
    "## Filter out non-product records in product_category column"
   ]
  },
  {
   "cell_type": "code",
   "execution_count": 4,
   "metadata": {},
   "outputs": [],
   "source": [
    "product_category = ['Sports', 'Baby', 'Apparel', 'Grocery', 'Electronics', 'Automotive', 'Books', 'Music', 'Furniture', 'Personal_Care_Appliances', 'Camera', 'Beauty']\n",
    "data_filter = data.filter(data.product_category.isin(product_category))"
   ]
  },
  {
   "cell_type": "markdown",
   "metadata": {},
   "source": [
    "## After filtering out, how many recoreds remaining"
   ]
  },
  {
   "cell_type": "code",
   "execution_count": 5,
   "metadata": {},
   "outputs": [
    {
     "data": {
      "text/plain": [
       "37172391"
      ]
     },
     "execution_count": 5,
     "metadata": {},
     "output_type": "execute_result"
    }
   ],
   "source": [
    "data_filter.count()"
   ]
  },
  {
   "cell_type": "markdown",
   "metadata": {},
   "source": [
    "## Find out top 20 customers posting the most reviews"
   ]
  },
  {
   "cell_type": "code",
   "execution_count": 6,
   "metadata": {},
   "outputs": [],
   "source": [
    "customer_count = data_filter.groupBy('customer_id').count()\n",
    "top20 = customer_count.sort(col('count').desc()).head(20)\n",
    "top20_l = list(map(lambda x : x[0], top20))"
   ]
  },
  {
   "cell_type": "code",
   "execution_count": 7,
   "metadata": {},
   "outputs": [
    {
     "data": {
      "text/plain": [
       "['50122160',\n",
       " '50732546',\n",
       " '50736950',\n",
       " '38214553',\n",
       " '51184997',\n",
       " '18116317',\n",
       " '23267387',\n",
       " '50345651',\n",
       " '52496677',\n",
       " '14539589',\n",
       " '15725862',\n",
       " '50913245',\n",
       " '50881246',\n",
       " '20018062',\n",
       " '22073263',\n",
       " '52615377',\n",
       " '19380211',\n",
       " '51381678',\n",
       " '37455882',\n",
       " '50441674']"
      ]
     },
     "execution_count": 7,
     "metadata": {},
     "output_type": "execute_result"
    }
   ],
   "source": [
    "top20_l"
   ]
  },
  {
   "cell_type": "markdown",
   "metadata": {},
   "source": [
    "## Find the top 20 customers whose average ratings are 5 stars"
   ]
  },
  {
   "cell_type": "code",
   "execution_count": 6,
   "metadata": {},
   "outputs": [
    {
     "name": "stdout",
     "output_type": "stream",
     "text": [
      "+-----------+------------------+------------------+\n",
      "|customer_id|  avg(star_rating)|count(customer_id)|\n",
      "+-----------+------------------+------------------+\n",
      "|   42948925|               5.0|                 2|\n",
      "|   39105436|               5.0|                 5|\n",
      "|   49344407| 4.253164556962025|               158|\n",
      "|   52857386|               3.5|                 8|\n",
      "|   22197844|               4.0|                 1|\n",
      "|    9991894|               5.0|                 1|\n",
      "|   52867206| 2.911111111111111|                45|\n",
      "|   25046820|               2.5|                 2|\n",
      "|   47619131|              4.75|                 4|\n",
      "|   37124998| 4.714285714285714|                 7|\n",
      "|   38417982|               5.0|                 1|\n",
      "|    7559816|3.7142857142857144|                 7|\n",
      "|   12904029| 4.420289855072464|                69|\n",
      "|   21012418| 4.398095238095238|               525|\n",
      "|    7038490| 4.142857142857143|                14|\n",
      "|   36125906|               3.0|                 1|\n",
      "|   23877395|4.7272727272727275|                11|\n",
      "|   17454706|3.1666666666666665|                12|\n",
      "|   15751046|               5.0|                 4|\n",
      "|   31826408|3.3333333333333335|                 6|\n",
      "+-----------+------------------+------------------+\n",
      "only showing top 20 rows\n",
      "\n"
     ]
    }
   ],
   "source": [
    "customer_count = data_filter.groupBy('customer_id').agg({'star_rating':'avg', 'customer_id':'count'})"
   ]
  },
  {
   "cell_type": "code",
   "execution_count": 7,
   "metadata": {},
   "outputs": [
    {
     "name": "stdout",
     "output_type": "stream",
     "text": [
      "+-----------+------------------+------------------+\n",
      "|customer_id|  avg(star_rating)|count(customer_id)|\n",
      "+-----------+------------------+------------------+\n",
      "|   50122160|4.9980296448882715|             22331|\n",
      "|   50345651| 4.980478917230609|              3842|\n",
      "|   52496677| 4.812853812853813|              3003|\n",
      "|   14539589|4.9883281840027465|              2913|\n",
      "|   20018062|4.9157158630842845|              2717|\n",
      "|   50199793| 4.847798204360838|              2339|\n",
      "|   53037408| 4.920921825576141|              2213|\n",
      "|   50776149|4.9949972206781545|              1799|\n",
      "|   20595117| 4.813236118900729|              1783|\n",
      "|   39569598| 4.843078758949881|              1676|\n",
      "|   15536614| 4.998778998778999|              1638|\n",
      "|    7080939|               5.0|              1530|\n",
      "|   34247947| 4.861070911722142|              1382|\n",
      "|   12201275| 4.938851603281133|              1341|\n",
      "|   50205849| 4.801063022019742|              1317|\n",
      "|   10608826| 4.992773261065944|              1107|\n",
      "|   40857530| 4.925788497217068|              1078|\n",
      "|   35110629|  4.98957345971564|              1055|\n",
      "|   51147790| 4.919960474308301|              1012|\n",
      "|   47883385|4.9977827050997785|               902|\n",
      "+-----------+------------------+------------------+\n",
      "only showing top 20 rows\n",
      "\n"
     ]
    }
   ],
   "source": [
    "customer_5 = customer_count.filter('avg(star_rating) > 4.8').sort(col('count(customer_id)').desc())\n",
    "customer_5.show()"
   ]
  },
  {
   "cell_type": "code",
   "execution_count": 8,
   "metadata": {},
   "outputs": [
    {
     "data": {
      "text/plain": [
       "['50122160',\n",
       " '50345651',\n",
       " '52496677',\n",
       " '14539589',\n",
       " '20018062',\n",
       " '50199793',\n",
       " '53037408',\n",
       " '50776149',\n",
       " '20595117',\n",
       " '39569598',\n",
       " '15536614',\n",
       " '7080939',\n",
       " '34247947',\n",
       " '12201275',\n",
       " '50205849',\n",
       " '10608826',\n",
       " '40857530',\n",
       " '35110629',\n",
       " '51147790',\n",
       " '47883385']"
      ]
     },
     "execution_count": 8,
     "metadata": {},
     "output_type": "execute_result"
    }
   ],
   "source": [
    "top20_5 = customer_5.head(20)\n",
    "top20_5l = list(map(lambda x : x[0], top20_5))\n",
    "top20_5l"
   ]
  },
  {
   "cell_type": "markdown",
   "metadata": {},
   "source": [
    "## Find out top customers whose average ratings are 4, 3, 2, 1"
   ]
  },
  {
   "cell_type": "code",
   "execution_count": 9,
   "metadata": {},
   "outputs": [],
   "source": [
    "customer_4 = customer_count.filter('avg(star_rating) > 3.8 and avg(star_rating) < 4.2').sort(col('count(customer_id)').desc())\n",
    "top20_4 = customer_4.head(20)\n",
    "top20_4l = list(map(lambda x : x[0], top20_4))\n",
    "\n",
    "customer_3 = customer_count.filter('avg(star_rating) > 2.8 and avg(star_rating) < 3.2').sort(col('count(customer_id)').desc())\n",
    "top20_3 = customer_3.head(20)\n",
    "top20_3l = list(map(lambda x : x[0], top20_3))\n",
    "\n",
    "customer_2 = customer_count.filter('avg(star_rating) > 1.8 and avg(star_rating) < 2.2').sort(col('count(customer_id)').desc())\n",
    "top20_2 = customer_2.head(20)\n",
    "top20_2l = list(map(lambda x : x[0], top20_2))\n",
    "\n",
    "customer_1 = customer_count.filter('avg(star_rating) > 0.8 and avg(star_rating) < 1.2').sort(col('count(customer_id)').desc())\n",
    "top20_1 = customer_1.head(20)\n",
    "top20_1l = list(map(lambda x : x[0], top20_1))"
   ]
  },
  {
   "cell_type": "code",
   "execution_count": 11,
   "metadata": {},
   "outputs": [
    {
     "name": "stdout",
     "output_type": "stream",
     "text": [
      "+-----------+------------------+------------------+\n",
      "|customer_id|  avg(star_rating)|count(customer_id)|\n",
      "+-----------+------------------+------------------+\n",
      "|   47382371|1.0229885057471264|               174|\n",
      "|   37141039|               1.0|               146|\n",
      "|   48608140|               1.0|                99|\n",
      "|   14308733|1.0736842105263158|                95|\n",
      "|   34408569|               1.0|                64|\n",
      "|   41491450|               1.0|                64|\n",
      "|   51303174|               1.0|                58|\n",
      "|    7251578|               1.0|                56|\n",
      "|   52794733|1.1555555555555554|                45|\n",
      "|   25951615|1.0476190476190477|                42|\n",
      "|    2395441|               1.0|                41|\n",
      "|   28317383|               1.0|                40|\n",
      "|   17076145|               1.0|                38|\n",
      "|   49045836| 1.105263157894737|                38|\n",
      "|   52984709|1.1891891891891893|                37|\n",
      "|   30295837|               1.0|                36|\n",
      "|   40930386|1.0303030303030303|                33|\n",
      "|   20781656|             1.125|                32|\n",
      "|   47667560| 1.064516129032258|                31|\n",
      "|   36097144|               1.0|                31|\n",
      "+-----------+------------------+------------------+\n",
      "only showing top 20 rows\n",
      "\n"
     ]
    }
   ],
   "source": [
    "customer_1.show()"
   ]
  },
  {
   "cell_type": "markdown",
   "metadata": {},
   "source": [
    "## Merge all all customer id list"
   ]
  },
  {
   "cell_type": "code",
   "execution_count": 12,
   "metadata": {},
   "outputs": [],
   "source": [
    "top20_12345 = top20_1l + top20_2l + top20_3l + top20_4l + top20_5l"
   ]
  },
  {
   "cell_type": "markdown",
   "metadata": {},
   "source": [
    "## Calculate each customer's the average rating of each product category"
   ]
  },
  {
   "cell_type": "code",
   "execution_count": 13,
   "metadata": {},
   "outputs": [
    {
     "name": "stdout",
     "output_type": "stream",
     "text": [
      "+-----------+----------------+------------------+\n",
      "|customer_id|product_category|  avg(star_rating)|\n",
      "+-----------+----------------+------------------+\n",
      "|   43135541|         Apparel|               1.6|\n",
      "|   20595117|           Books| 4.805234327449787|\n",
      "|   48608140|          Sports|               1.0|\n",
      "|   23267387|           Books|               5.0|\n",
      "|   38214553|          Sports|               4.0|\n",
      "|   23267387|          Beauty|               4.0|\n",
      "|   27852921|           Music|3.1784615384615384|\n",
      "|   18116317|         Grocery| 4.309523809523809|\n",
      "|   47667560|         Grocery|1.3333333333333333|\n",
      "|   52398462|          Sports|               2.0|\n",
      "|   40140997|            Baby|               4.0|\n",
      "|   38106163|         Apparel|1.3333333333333333|\n",
      "|   49335121|           Music|3.6666666666666665|\n",
      "|   47883385|          Sports|               5.0|\n",
      "|   38889875|           Music|             3.875|\n",
      "|   50345651|           Books| 4.886363636363637|\n",
      "|   45457807|     Electronics|               2.0|\n",
      "|   52569116|           Music|               4.2|\n",
      "|    2395441|         Apparel|               1.0|\n",
      "|   47667560|          Beauty|               1.0|\n",
      "+-----------+----------------+------------------+\n",
      "only showing top 20 rows\n",
      "\n"
     ]
    }
   ],
   "source": [
    "avg_c_p = data_filter.filter(data_filter.customer_id.isin(top20_12345)).groupBy('customer_id', 'product_category').mean('star_rating')\n",
    "avg_c_p.show()"
   ]
  },
  {
   "cell_type": "code",
   "execution_count": 14,
   "metadata": {},
   "outputs": [
    {
     "data": {
      "text/plain": [
       "418"
      ]
     },
     "execution_count": 14,
     "metadata": {},
     "output_type": "execute_result"
    }
   ],
   "source": [
    "avg_c_p.count()"
   ]
  },
  {
   "cell_type": "markdown",
   "metadata": {},
   "source": [
    "## Convert string type to numeric type and Split data into training and test"
   ]
  },
  {
   "cell_type": "code",
   "execution_count": 15,
   "metadata": {},
   "outputs": [],
   "source": [
    "avg_c_p = avg_c_p.withColumn(\"customer_id\", avg_c_p[\"customer_id\"].cast(IntegerType()))\n",
    "indexer = StringIndexer(inputCol=\"product_category\", outputCol=\"product_id\")\n",
    "cus_prod = indexer.fit(avg_c_p).transform(avg_c_p)"
   ]
  },
  {
   "cell_type": "markdown",
   "metadata": {},
   "source": [
    "### Retrieve the mapping between index and product category"
   ]
  },
  {
   "cell_type": "code",
   "execution_count": 16,
   "metadata": {},
   "outputs": [
    {
     "data": {
      "text/plain": [
       "['Music',\n",
       " 'Books',\n",
       " 'Electronics',\n",
       " 'Grocery',\n",
       " 'Sports',\n",
       " 'Apparel',\n",
       " 'Beauty',\n",
       " 'Camera',\n",
       " 'Automotive',\n",
       " 'Baby',\n",
       " 'Furniture',\n",
       " 'Personal_Care_Appliances']"
      ]
     },
     "execution_count": 16,
     "metadata": {},
     "output_type": "execute_result"
    }
   ],
   "source": [
    "indexer.fit(avg_c_p).labels"
   ]
  },
  {
   "cell_type": "markdown",
   "metadata": {},
   "source": [
    "### Split the data into training and test"
   ]
  },
  {
   "cell_type": "code",
   "execution_count": 17,
   "metadata": {},
   "outputs": [],
   "source": [
    "(training, test) = cus_prod.randomSplit([0.8, 0.2])"
   ]
  },
  {
   "cell_type": "code",
   "execution_count": 18,
   "metadata": {},
   "outputs": [
    {
     "name": "stdout",
     "output_type": "stream",
     "text": [
      "+-----------+--------------------+------------------+----------+\n",
      "|customer_id|    product_category|  avg(star_rating)|product_id|\n",
      "+-----------+--------------------+------------------+----------+\n",
      "|   20595117|               Books| 4.805234327449787|       1.0|\n",
      "|   48608140|              Sports|               1.0|       4.0|\n",
      "|   23267387|              Beauty|               4.0|       6.0|\n",
      "|   38214553|              Sports|               4.0|       4.0|\n",
      "|   27852921|               Music|3.1784615384615384|       0.0|\n",
      "|   40140997|                Baby|               4.0|       9.0|\n",
      "|   47667560|             Grocery|1.3333333333333333|       3.0|\n",
      "|   52398462|              Sports|               2.0|       4.0|\n",
      "|   47883385|              Sports|               5.0|       4.0|\n",
      "|   49335121|               Music|3.6666666666666665|       0.0|\n",
      "|   50345651|               Books| 4.886363636363637|       1.0|\n",
      "|   52569116|               Music|               4.2|       0.0|\n",
      "|    2395441|             Apparel|               1.0|       5.0|\n",
      "|   37019521|               Books|               3.0|       1.0|\n",
      "|   40057504|Personal_Care_App...|               2.0|      11.0|\n",
      "|   47667560|              Beauty|               1.0|       6.0|\n",
      "|   52569116|              Beauty|               2.5|       6.0|\n",
      "|   50736950|         Electronics|               5.0|       2.0|\n",
      "|   49335121|           Furniture|               3.0|      10.0|\n",
      "|   12887339|             Grocery|               5.0|       3.0|\n",
      "+-----------+--------------------+------------------+----------+\n",
      "only showing top 20 rows\n",
      "\n"
     ]
    }
   ],
   "source": [
    "training.show()"
   ]
  },
  {
   "cell_type": "markdown",
   "metadata": {},
   "source": [
    "## Build the recommendation model using ALS on the training data"
   ]
  },
  {
   "cell_type": "code",
   "execution_count": 19,
   "metadata": {},
   "outputs": [],
   "source": [
    "als = ALS(maxIter=5, regParam=0.01, userCol=\"customer_id\", itemCol=\"product_id\", ratingCol=\"avg(star_rating)\", coldStartStrategy=\"drop\")\n",
    "model = als.fit(training)"
   ]
  },
  {
   "cell_type": "markdown",
   "metadata": {},
   "source": [
    "## Evaluate the model by computing the RMSE on the test data"
   ]
  },
  {
   "cell_type": "code",
   "execution_count": 20,
   "metadata": {},
   "outputs": [
    {
     "name": "stdout",
     "output_type": "stream",
     "text": [
      "+-----------+----------------+------------------+----------+----------+\n",
      "|customer_id|product_category|  avg(star_rating)|product_id|prediction|\n",
      "+-----------+----------------+------------------+----------+----------+\n",
      "|   39569598|           Books| 4.839689265536723|       1.0|  4.802179|\n",
      "|   23267387|           Books|               5.0|       1.0| 4.0730057|\n",
      "|   35110629|           Books|               5.0|       1.0|  5.068819|\n",
      "|   34639163|           Books| 4.368421052631579|       1.0| 4.2211094|\n",
      "|   52932081|           Books| 3.160621761658031|       1.0| 3.6676617|\n",
      "|   50503261|           Books| 4.157894736842105|       1.0| 4.9542913|\n",
      "|   50122160|           Books| 4.997992883860961|       1.0| 4.8402967|\n",
      "|   44617291|           Books|               4.0|       1.0| 3.8545032|\n",
      "|   50881246|           Books| 3.958036421219319|       1.0| 3.4014323|\n",
      "|   52496677|          Beauty| 4.904109589041096|       6.0|  4.394989|\n",
      "|   35689076|          Beauty|               3.0|       6.0| 2.7046502|\n",
      "|   50503261|          Beauty|               5.0|       6.0|  3.899232|\n",
      "|   27852921|          Beauty|               5.0|       6.0|  1.469954|\n",
      "|   52875146|          Beauty|3.6666666666666665|       6.0| 2.9069173|\n",
      "|   39465741|          Beauty|               3.0|       6.0|0.83721495|\n",
      "|   53037408|          Beauty| 4.944444444444445|       6.0| 1.1109083|\n",
      "|   43135541|          Beauty|               1.0|       6.0| 1.4628807|\n",
      "|   49335121|          Beauty|               3.2|       6.0| 1.3910677|\n",
      "|   40057504|          Beauty|               2.1|       6.0|0.15413168|\n",
      "|   52987300|          Beauty|               2.0|       6.0| 2.9111013|\n",
      "+-----------+----------------+------------------+----------+----------+\n",
      "only showing top 20 rows\n",
      "\n",
      "Root-mean-square error = 3.5601934361323546\n"
     ]
    }
   ],
   "source": [
    "predictions = model.transform(test)\n",
    "predictions = predictions.dropna()\n",
    "predictions.show()\n",
    "evaluator = RegressionEvaluator(metricName=\"rmse\", labelCol=\"product_id\",predictionCol=\"prediction\")\n",
    "rmse = evaluator.evaluate(predictions)\n",
    "print(\"Root-mean-square error = \" + str(rmse))"
   ]
  },
  {
   "cell_type": "code",
   "execution_count": 21,
   "metadata": {},
   "outputs": [
    {
     "name": "stdout",
     "output_type": "stream",
     "text": [
      "+-----------+---------------------------------------------------+\n",
      "|customer_id|recommendations                                    |\n",
      "+-----------+---------------------------------------------------+\n",
      "|47667560   |[[3, 1.3322111], [4, 1.2130852], [10, 1.0492013]]  |\n",
      "|7080939    |[[8, 5.537457], [3, 5.3056493], [1, 5.3042455]]    |\n",
      "|47375452   |[[0, 2.8856785], [4, 2.8499315], [1, 2.7823439]]   |\n",
      "|29490909   |[[9, 2.5491278], [8, 2.3140297], [4, 2.0385966]]   |\n",
      "|52421866   |[[7, 3.860292], [2, 3.041908], [1, 3.0339704]]     |\n",
      "|37141039   |[[9, 0.9998093], [10, 0.99946404], [8, 0.96031696]]|\n",
      "|49635896   |[[1, 4.3396564], [4, 3.9630327], [3, 3.949873]]    |\n",
      "|52496677   |[[8, 5.0212307], [3, 4.998295], [9, 4.984811]]     |\n",
      "|52932081   |[[4, 4.992174], [3, 4.9425707], [10, 4.3153152]]   |\n",
      "|41228222   |[[6, 4.994157], [9, 4.100984], [2, 4.0705853]]     |\n",
      "|2395441    |[[9, 1.089569], [8, 1.0002432], [10, 0.999448]]    |\n",
      "|51184997   |[[1, 4.9975934], [3, 4.4241796], [4, 4.4059277]]   |\n",
      "|20781656   |[[3, 1.2661033], [4, 1.1981826], [10, 1.1534605]]  |\n",
      "|17076145   |[[4, 0.99966574], [3, 0.97951657], [8, 0.8748867]] |\n",
      "|37019521   |[[0, 3.0630345], [4, 3.039622], [1, 2.9998882]]    |\n",
      "|31390335   |[[1, 4.995247], [3, 3.9026341], [10, 3.793626]]    |\n",
      "|34639163   |[[7, 4.5749273], [2, 4.3307385], [1, 4.2211094]]   |\n",
      "|44383461   |[[1, 3.6984363], [4, 3.324923], [3, 3.322136]]     |\n",
      "|25951615   |[[0, 1.0471666], [4, 1.0341945], [1, 1.009668]]    |\n",
      "|34247947   |[[3, 5.8486934], [1, 5.5917306], [4, 5.5449224]]   |\n",
      "|48157614   |[[0, 4.9889107], [4, 4.013731], [8, 3.584558]]     |\n",
      "|40140997   |[[1, 4.985516], [2, 4.1597447], [9, 4.0013804]]    |\n",
      "|35689076   |[[9, 4.443114], [8, 3.9606175], [1, 3.8774707]]    |\n",
      "|50943525   |[[3, 2.2391987], [4, 1.8456106], [1, 1.6256564]]   |\n",
      "|53037408   |[[0, 5.0510197], [3, 4.93633], [5, 4.9335313]]     |\n",
      "|51809405   |[[1, 4.120767], [4, 3.9066563], [3, 3.8523855]]    |\n",
      "|40930386   |[[0, 1.4993522], [4, 1.4807786], [1, 1.4456611]]   |\n",
      "|50888688   |[[1, 1.7252283], [3, 1.4552252], [4, 1.4244909]]   |\n",
      "|47768995   |[[1, 3.884977], [3, 3.2949905], [4, 3.2318928]]    |\n",
      "|18116317   |[[1, 5.2558374], [2, 5.0905886], [10, 5.0826874]]  |\n",
      "|49045836   |[[2, 4.988113], [9, 4.434116], [7, 3.925959]]      |\n",
      "|14539589   |[[9, 5.713326], [2, 4.999348], [10, 4.989881]]     |\n",
      "|20125512   |[[1, 3.9946308], [10, 2.7927501], [3, 2.7737727]]  |\n",
      "|52984709   |[[3, 2.9950793], [4, 2.5584254], [1, 1.9914665]]   |\n",
      "|14702840   |[[7, 2.6359131], [6, 2.4919043], [2, 2.430389]]    |\n",
      "|49374774   |[[7, 4.082124], [4, 4.050009], [2, 3.9968662]]     |\n",
      "|20018062   |[[4, 5.6493754], [3, 5.4627957], [8, 5.323617]]    |\n",
      "|30295837   |[[8, 0.99968237], [9, 0.8656006], [4, 0.8313518]]  |\n",
      "|20595117   |[[0, 4.9119644], [1, 4.8025165], [4, 3.7495306]]   |\n",
      "|40057504   |[[11, 1.9963691], [10, 1.3951744], [9, 1.3355247]] |\n",
      "|39569598   |[[3, 4.99401], [8, 4.943222], [0, 4.8618097]]      |\n",
      "|52398462   |[[8, 4.9663377], [9, 3.023926], [5, 3.0021045]]    |\n",
      "|15536614   |[[4, 5.2976856], [3, 5.16526], [1, 5.088744]]      |\n",
      "|50503261   |[[10, 5.0657554], [5, 4.9741697], [1, 4.9542913]]  |\n",
      "|29791894   |[[0, 4.0926733], [4, 3.7472608], [3, 3.4795642]]   |\n",
      "|37455882   |[[0, 4.0576024], [1, 3.2531877], [4, 3.151255]]    |\n",
      "|43135541   |[[10, 2.9896321], [7, 2.9876528], [3, 2.8968103]]  |\n",
      "|49857845   |[[4, 4.474039], [8, 4.288533], [1, 4.171143]]      |\n",
      "|47090608   |[[2, 2.9982395], [7, 2.8677018], [9, 2.7460938]]   |\n",
      "|40857530   |[[8, 5.6379933], [9, 5.608386], [2, 5.2750697]]    |\n",
      "|52569116   |[[7, 4.591637], [3, 4.376231], [2, 4.274785]]      |\n",
      "|22779037   |[[2, 3.9745607], [7, 3.2566855], [9, 2.6062546]]   |\n",
      "|31493800   |[[0, 1.9318202], [4, 1.6391777], [8, 1.4701458]]   |\n",
      "|51147790   |[[4, 5.022168], [9, 5.001979], [8, 5.000516]]      |\n",
      "|50345651   |[[3, 4.998444], [1, 4.8844028], [4, 4.696134]]     |\n",
      "|14308733   |[[4, 1.9977742], [3, 1.915776], [7, 1.796145]]     |\n",
      "|50736950   |[[2, 4.997245], [4, 4.9929237], [6, 4.94119]]      |\n",
      "|49335121   |[[7, 4.986912], [2, 4.166405], [1, 3.970804]]      |\n",
      "|51889051   |[[1, 2.0472593], [3, 1.7268573], [4, 1.6903863]]   |\n",
      "|38214553   |[[0, 4.1281786], [4, 4.0002093], [1, 3.9531221]]   |\n",
      "|50205849   |[[1, 4.998783], [4, 4.890444], [3, 4.8000774]]     |\n",
      "|52550582   |[[9, 4.990923], [8, 3.5522335], [7, 3.338141]]     |\n",
      "|50122160   |[[4, 4.99982], [0, 4.99586], [3, 4.8443847]]       |\n",
      "|51381678   |[[0, 3.8782403], [1, 3.5007625], [4, 3.3662286]]   |\n",
      "|43086691   |[[0, 3.9946218], [4, 3.6855779], [3, 3.4375954]]   |\n",
      "|50199793   |[[10, 6.4726114], [9, 5.0172734], [5, 5.0043983]]  |\n",
      "|52715519   |[[9, 5.619985], [8, 5.071347], [7, 4.9965334]]     |\n",
      "|12887339   |[[3, 4.9963884], [4, 4.387103], [10, 3.8398466]]   |\n",
      "|28317383   |[[9, 1.1021603], [8, 1.0726808], [10, 1.0217941]]  |\n",
      "|52794733   |[[1, 2.4991622], [3, 2.1080363], [4, 2.0635152]]   |\n",
      "|34408569   |[[2, 0.99965274], [7, 0.9259441], [9, 0.90820205]] |\n",
      "|38106163   |[[3, 2.637774], [4, 2.2475457], [1, 1.9608178]]    |\n",
      "|45041039   |[[1, 4.138568], [3, 3.4908702], [4, 3.4171436]]    |\n",
      "|27852921   |[[0, 3.17422], [4, 2.618917], [1, 2.6107259]]      |\n",
      "|12201275   |[[10, 5.0394597], [8, 5.0166454], [2, 4.973764]]   |\n",
      "|38889875   |[[6, 3.5643067], [4, 3.401068], [3, 3.1736844]]    |\n",
      "|35110629   |[[4, 5.183725], [7, 5.162412], [1, 5.068819]]      |\n",
      "|45457807   |[[9, 2.0574565], [8, 1.9915138], [10, 1.9009823]]  |\n",
      "|52875146   |[[9, 4.788997], [8, 4.7520385], [10, 4.5035405]]   |\n",
      "|44617291   |[[4, 3.9999368], [7, 3.9972675], [3, 3.9288347]]   |\n",
      "|10507768   |[[0, 2.0249867], [4, 1.9999018], [1, 1.952473]]    |\n",
      "|38491967   |[[1, 4.031433], [0, 3.8281865], [4, 3.1960988]]    |\n",
      "|23267387   |[[4, 4.9800572], [7, 4.8271174], [9, 4.780133]]    |\n",
      "|7251578    |[[4, 0.99966574], [3, 0.97951657], [8, 0.8748867]] |\n",
      "|34831948   |[[0, 2.034835], [4, 2.0096278], [1, 1.9619687]]    |\n",
      "|50776149   |[[4, 5.080338], [3, 4.9995584], [1, 4.9945493]]    |\n",
      "|47883385   |[[8, 5.027541], [1, 5.019696], [4, 5.005702]]      |\n",
      "|52469795   |[[4, 5.166275], [3, 4.9982696], [1, 4.992287]]     |\n",
      "|50150133   |[[1, 4.9943748], [3, 3.7087758], [10, 3.658862]]   |\n",
      "|39465741   |[[9, 1.1021603], [8, 1.0726808], [10, 1.0217941]]  |\n",
      "|52987300   |[[0, 4.9919467], [4, 4.4262486], [3, 4.031371]]    |\n",
      "|48608140   |[[1, 1.0037951], [4, 1.0015012], [8, 1.0000286]]   |\n",
      "|35985708   |[[0, 3.544541], [4, 3.3951137], [3, 3.2341561]]    |\n",
      "|19380211   |[[0, 2.9983187], [4, 2.9611757], [1, 2.8909502]]   |\n",
      "|50881246   |[[3, 4.9926677], [4, 3.6713963], [1, 3.4014323]]   |\n",
      "+-----------+---------------------------------------------------+\n",
      "\n"
     ]
    }
   ],
   "source": [
    "K = 3\n",
    "userRecs = model.recommendForAllUsers(K)\n",
    "userRecs.show(userRecs.count(), False)"
   ]
  },
  {
   "cell_type": "code",
   "execution_count": null,
   "metadata": {},
   "outputs": [],
   "source": []
  }
 ],
 "metadata": {
  "kernelspec": {
   "display_name": "Python 3",
   "language": "python",
   "name": "python3"
  },
  "language_info": {
   "codemirror_mode": {
    "name": "ipython",
    "version": 3
   },
   "file_extension": ".py",
   "mimetype": "text/x-python",
   "name": "python",
   "nbconvert_exporter": "python",
   "pygments_lexer": "ipython3",
   "version": "3.7.4"
  }
 },
 "nbformat": 4,
 "nbformat_minor": 4
}
